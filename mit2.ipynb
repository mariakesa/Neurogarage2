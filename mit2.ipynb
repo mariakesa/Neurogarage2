{
 "cells": [
  {
   "cell_type": "code",
   "execution_count": 3,
   "metadata": {},
   "outputs": [],
   "source": [
    "import numpy as np\n",
    "from scipy.stats import norm"
   ]
  },
  {
   "cell_type": "code",
   "execution_count": 7,
   "metadata": {},
   "outputs": [
    {
     "data": {
      "text/plain": [
       "np.float64(-24.512532330086678)"
      ]
     },
     "execution_count": 7,
     "metadata": {},
     "output_type": "execute_result"
    }
   ],
   "source": [
    "points=[-1,0,4,5,6]\n",
    "\n",
    "ll=0\n",
    "\n",
    "for p in points:\n",
    "    ll+=np.log(0.5*norm.pdf(p,loc=6,scale=1)+0.5*norm.pdf(p,loc=7,scale=2))\n",
    "ll"
   ]
  },
  {
   "cell_type": "code",
   "execution_count": 8,
   "metadata": {},
   "outputs": [
    {
     "name": "stdout",
     "output_type": "stream",
     "text": [
      "BOOM\n",
      "1.3651204889115538e-07\n",
      "0.9999998634879511\n",
      "BOOM\n",
      "1.392441555492751e-05\n",
      "0.999986075584445\n",
      "BOOM\n",
      "0.4546616728923708\n",
      "0.5453383271076292\n",
      "BOOM\n",
      "0.6666666666666666\n",
      "0.3333333333333333\n",
      "BOOM\n",
      "0.6938428964855771\n",
      "0.30615710351442293\n"
     ]
    }
   ],
   "source": [
    "for p in points:\n",
    "    print('BOOM')\n",
    "    print((0.5*norm.pdf(p,loc=6,scale=1))/(0.5*norm.pdf(p,loc=6,scale=1)+0.5*norm.pdf(p,loc=7,scale=2)))\n",
    "    print((0.5*norm.pdf(p,loc=7,scale=2))/(0.5*norm.pdf(p,loc=6,scale=1)+0.5*norm.pdf(p,loc=7,scale=2)))"
   ]
  },
  {
   "cell_type": "code",
   "execution_count": null,
   "metadata": {},
   "outputs": [],
   "source": [
    "((gamma_k1*(x_1-hatmu_k)^2)/(gamma_k1+gamma_k2)+((gamma_k2*(x_2-hatmu_k)^2)/(gamma_k1+gamma_k2)\n",
    "   (gamma_k1*x_1)/(gamma_k1+gamma_k2)+(gamma_k2*x_2)/(gamma_k1+gamma_k2)                                              "
   ]
  },
  {
   "cell_type": "code",
   "execution_count": 14,
   "metadata": {},
   "outputs": [
    {
     "name": "stdout",
     "output_type": "stream",
     "text": [
      "5.131728029552676\n",
      "1.4710314946241008\n",
      "BOOM\n",
      "BOOM\n",
      "BOOM\n",
      "BOOM\n",
      "BOOM\n",
      "0.615562501441774\n",
      "6.967022101798352\n"
     ]
    }
   ],
   "source": [
    "denom1=0\n",
    "denom2=0\n",
    "for p in points:\n",
    "    gamma_1=((0.5*norm.pdf(p,loc=6,scale=1))/(0.5*norm.pdf(p,loc=6,scale=1)+0.5*norm.pdf(p,loc=7,scale=2)))\n",
    "    gamma_2=((0.5*norm.pdf(p,loc=7,scale=2))/(0.5*norm.pdf(p,loc=6,scale=1)+0.5*norm.pdf(p,loc=7,scale=2)))\n",
    "    denom1+=gamma_1\n",
    "    denom2+=gamma_2\n",
    "\n",
    "mean1=0\n",
    "mean2=0\n",
    "for p in points:\n",
    "    gamma_1=((0.5*norm.pdf(p,loc=6,scale=1))/(0.5*norm.pdf(p,loc=6,scale=1)+0.5*norm.pdf(p,loc=7,scale=2)))\n",
    "    gamma_2=((0.5*norm.pdf(p,loc=7,scale=2))/(0.5*norm.pdf(p,loc=6,scale=1)+0.5*norm.pdf(p,loc=7,scale=2)))\n",
    "    mean1+=gamma_1*p\n",
    "    mean2+=gamma_2*p\n",
    "mean1=mean1/denom1\n",
    "mean2=mean2/denom2\n",
    "print(mean1)\n",
    "print(mean2)\n",
    "\n",
    "s1=0\n",
    "s2=0\n",
    "for p in points:\n",
    "    print('BOOM')\n",
    "    gamma_1=((0.5*norm.pdf(p,loc=6,scale=1))/(0.5*norm.pdf(p,loc=6,scale=1)+0.5*norm.pdf(p,loc=7,scale=2)))\n",
    "    gamma_2=((0.5*norm.pdf(p,loc=7,scale=2))/(0.5*norm.pdf(p,loc=6,scale=1)+0.5*norm.pdf(p,loc=7,scale=2)))\n",
    "    s1+=gamma_1*(p-mean1)**2\n",
    "    s2+=gamma_2*(p-mean2)**2\n",
    "\n",
    "s1=s1/denom1\n",
    "s2=s2/denom2\n",
    "print(s1)\n",
    "print(s2)"
   ]
  },
  {
   "cell_type": "code",
   "execution_count": null,
   "metadata": {},
   "outputs": [],
   "source": []
  },
  {
   "cell_type": "code",
   "execution_count": 9,
   "metadata": {},
   "outputs": [
    {
     "name": "stdout",
     "output_type": "stream",
     "text": [
      "BOOM\n",
      "BOOM\n",
      "BOOM\n",
      "BOOM\n",
      "BOOM\n",
      "9.31503726730423 4.6849627326957695\n"
     ]
    }
   ],
   "source": [
    "#(gamma_k1*x_1)/(gamma_k1+gamma_k2)+(gamma_k2*x_2)/(gamma_k1+gamma_k2)\n",
    "\n",
    "s1=0\n",
    "s2=0\n",
    "for p in points:\n",
    "    print('BOOM')\n",
    "    gamma_1=((0.5*norm.pdf(p,loc=6,scale=1))/(0.5*norm.pdf(p,loc=6,scale=1)+0.5*norm.pdf(p,loc=7,scale=2)))\n",
    "    gamma_2=((0.5*norm.pdf(p,loc=7,scale=2))/(0.5*norm.pdf(p,loc=6,scale=1)+0.5*norm.pdf(p,loc=7,scale=2)))\n",
    "    s1+=gamma_1*p/(gamma_1+gamma_2)\n",
    "    s2+=gamma_2*p/(gamma_1+gamma_2)\n",
    "print(s1,s2)\n"
   ]
  },
  {
   "cell_type": "code",
   "execution_count": 12,
   "metadata": {},
   "outputs": [
    {
     "data": {
      "text/plain": [
       "51"
      ]
     },
     "execution_count": 12,
     "metadata": {},
     "output_type": "execute_result"
    }
   ],
   "source": [
    "32-1\n",
    "55-4"
   ]
  },
  {
   "cell_type": "code",
   "execution_count": 15,
   "metadata": {},
   "outputs": [
    {
     "name": "stdout",
     "output_type": "stream",
     "text": [
      "{'mu': [np.float64(4.999999981835703), np.float64(-0.500000002723079)], 'sigma': [np.float64(0.8164966350647528), np.float64(0.5)], 'pi': [np.float64(0.6000000021796017), np.float64(0.39999999782039825)]}\n"
     ]
    }
   ],
   "source": [
    "import numpy as np\n",
    "from scipy.stats import norm\n",
    "\n",
    "# Data\n",
    "points = np.array([-1,0,4,5,6])  # Replace with your data points (e.g., np.random.randn(100))\n",
    "\n",
    "# Initial parameters\n",
    "params = {\n",
    "    'mu': [6.0, 7.0],\n",
    "    'sigma': [1.0, 2.0],\n",
    "    'pi': [0.5, 0.5]\n",
    "}\n",
    "\n",
    "# EM iterations\n",
    "for i in range(100):\n",
    "    gamma = []  # store responsibilities for all points\n",
    "    for p in points:\n",
    "        # E-step: compute responsibilities\n",
    "        g1 = params['pi'][0] * norm.pdf(p, loc=params['mu'][0], scale=params['sigma'][0])\n",
    "        g2 = params['pi'][1] * norm.pdf(p, loc=params['mu'][1], scale=params['sigma'][1])\n",
    "        total = g1 + g2\n",
    "        gamma.append([g1 / total, g2 / total])  # gamma_ik for k=0 and k=1\n",
    "\n",
    "    gamma = np.array(gamma)  # shape (N, 2)\n",
    "\n",
    "    # M-step\n",
    "    N_k = np.sum(gamma, axis=0)  # effective number of points for each cluster\n",
    "\n",
    "    # Update means\n",
    "    mu1 = np.sum(gamma[:, 0] * points) / N_k[0]\n",
    "    mu2 = np.sum(gamma[:, 1] * points) / N_k[1]\n",
    "\n",
    "    # Update variances\n",
    "    var1 = np.sum(gamma[:, 0] * (points - mu1) ** 2) / N_k[0]\n",
    "    var2 = np.sum(gamma[:, 1] * (points - mu2) ** 2) / N_k[1]\n",
    "\n",
    "    # Update mixing coefficients\n",
    "    pi1 = N_k[0] / len(points)\n",
    "    pi2 = N_k[1] / len(points)\n",
    "\n",
    "    # Update params\n",
    "    params['mu'][0] = mu1\n",
    "    params['mu'][1] = mu2\n",
    "    params['sigma'][0] = np.sqrt(var1)\n",
    "    params['sigma'][1] = np.sqrt(var2)\n",
    "    params['pi'][0] = pi1\n",
    "    params['pi'][1] = pi2\n",
    "\n",
    "print(params)"
   ]
  },
  {
   "cell_type": "code",
   "execution_count": 19,
   "metadata": {},
   "outputs": [
    {
     "name": "stdout",
     "output_type": "stream",
     "text": [
      "0.42857142857142855\n",
      "0.35714285714285715\n",
      "0.21428571428571427\n",
      "ABC 0.032774741999999996\n",
      "BBB 0.04549929299999999\n",
      "ABB 0.054675620999999994\n",
      "AAC 0.039384774\n"
     ]
    }
   ],
   "source": [
    "A=6\n",
    "B=5\n",
    "C=3\n",
    "\n",
    "print(A/(A+B+C))\n",
    "print(B/(A+B+C))\n",
    "print(C/(A+B+C))\n",
    "0.42+0.36+0.21\n",
    "\n",
    "p_A=0.429\n",
    "p_B=0.357\n",
    "p_C=0.214\n",
    "\n",
    "ABC=p_A*p_B*p_C\n",
    "print('ABC',ABC)\n",
    "BBB=p_B*p_B*p_B\n",
    "print('BBB',BBB)\n",
    "ABB=p_A*p_B*p_B\n",
    "print('ABB',ABB)\n",
    "AAC=p_A*p_A*p_C\n",
    "print('AAC',AAC)\n"
   ]
  },
  {
   "cell_type": "code",
   "execution_count": null,
   "metadata": {},
   "outputs": [],
   "source": []
  },
  {
   "cell_type": "code",
   "execution_count": 24,
   "metadata": {},
   "outputs": [
    {
     "name": "stdout",
     "output_type": "stream",
     "text": [
      "['A', 'B', 'A', 'B', 'B', 'C', 'A', 'B', 'A', 'A', 'B', 'C', 'A', 'C']\n"
     ]
    },
    {
     "data": {
      "text/plain": [
       "{'AB': 4, 'BA': 2, 'BB': 1, 'BC': 2, 'CA': 2, 'AA': 1, 'AC': 1}"
      ]
     },
     "execution_count": 24,
     "metadata": {},
     "output_type": "execute_result"
    }
   ],
   "source": [
    "string='A B A B B C A B A A B C A C'\n",
    "string=string.split(' ')\n",
    "print(string)\n",
    "\n",
    "params = {}\n",
    "for i in range(0,len(string)-1):\n",
    "    params[string[i]+string[i+1]]=0\n",
    "for i in range(0,len(string)-1):\n",
    "    params[string[i]+string[i+1]]+=1\n",
    "params"
   ]
  },
  {
   "cell_type": "code",
   "execution_count": 36,
   "metadata": {},
   "outputs": [
    {
     "name": "stdout",
     "output_type": "stream",
     "text": [
      "final centers: {'cluster_1': array([4, 4]), 'cluster_2': array([ 0, -6])}\n",
      "cluster_points: {'cluster_1': [1, 3], 'cluster_2': [0, 2]}\n"
     ]
    }
   ],
   "source": [
    "import numpy as np\n",
    "\n",
    "points = np.array([[0, -6], [4, 4], [0, 0], [-5, 2]])\n",
    "\n",
    "centers = {\n",
    "    'cluster_1': np.array([-5, 2]),\n",
    "    'cluster_2': np.array([0, -6])\n",
    "}\n",
    "\n",
    "def distance(a, b):\n",
    "    return np.abs(a - b).sum()\n",
    "\n",
    "def assign_clusters(points, centers):\n",
    "    cluster_dct = {'cluster_1': [], 'cluster_2': []}\n",
    "    for p in range(len(points)):\n",
    "        d1 = distance(points[p], centers['cluster_1'])\n",
    "        d2 = distance(points[p], centers['cluster_2'])\n",
    "        if d1 < d2:\n",
    "            cluster_dct['cluster_1'].append(p)\n",
    "        else:\n",
    "            cluster_dct['cluster_2'].append(p)\n",
    "    return cluster_dct\n",
    "\n",
    "def calculate_min_dist(point_indices):\n",
    "    n = len(point_indices)\n",
    "    dist_mat = np.zeros((n, n))\n",
    "    for i in range(n):\n",
    "        for j in range(n):\n",
    "            if i != j:\n",
    "                dist = distance(points[point_indices[i]], points[point_indices[j]])\n",
    "                dist_mat[i][j] = dist\n",
    "    total_dists = dist_mat.sum(axis=1)\n",
    "    min_index = np.argmin(total_dists)\n",
    "    return point_indices[min_index]\n",
    "\n",
    "def M_step(points, cluster_dct, centers):\n",
    "    cluster_1_points = cluster_dct['cluster_1']\n",
    "    cluster_2_points = cluster_dct['cluster_2']\n",
    "\n",
    "    if len(cluster_1_points) == 2:\n",
    "        center1_idx = min(cluster_1_points)\n",
    "    else:\n",
    "        center1_idx = calculate_min_dist(cluster_1_points)\n",
    "    center1 = points[center1_idx]\n",
    "\n",
    "    if len(cluster_2_points) == 2:\n",
    "        center2_idx = min(cluster_2_points)\n",
    "    else:\n",
    "        center2_idx = calculate_min_dist(cluster_2_points)\n",
    "    center2 = points[center2_idx]\n",
    "\n",
    "    centers['cluster_1'] = center1\n",
    "    centers['cluster_2'] = center2\n",
    "    return centers\n",
    "\n",
    "for i in range(100):\n",
    "    cluster_dct = assign_clusters(points, centers)\n",
    "    centers = M_step(points, cluster_dct, centers)\n",
    "\n",
    "print('final centers:', centers)\n",
    "print('cluster_points:', cluster_dct)"
   ]
  },
  {
   "cell_type": "code",
   "execution_count": 38,
   "metadata": {},
   "outputs": [
    {
     "name": "stdout",
     "output_type": "stream",
     "text": [
      "final centers: {'cluster_1': array([0, 0]), 'cluster_2': array([ 0, -6])}\n",
      "cluster_points: {'cluster_1': [1, 2, 3], 'cluster_2': [0]}\n"
     ]
    }
   ],
   "source": [
    "import numpy as np\n",
    "\n",
    "points = np.array([[0, -6], [4, 4], [0, 0], [-5, 2]])\n",
    "\n",
    "centers = {\n",
    "    'cluster_1': np.array([-5, 2]),\n",
    "    'cluster_2': np.array([0, -6])\n",
    "}\n",
    "\n",
    "def distance(a, b):\n",
    "    return np.sqrt(((a - b)**2).sum())\n",
    "\n",
    "def assign_clusters(points, centers):\n",
    "    cluster_dct = {'cluster_1': [], 'cluster_2': []}\n",
    "    for p in range(len(points)):\n",
    "        d1 = distance(points[p], centers['cluster_1'])\n",
    "        d2 = distance(points[p], centers['cluster_2'])\n",
    "        if d1 < d2:\n",
    "            cluster_dct['cluster_1'].append(p)\n",
    "        else:\n",
    "            cluster_dct['cluster_2'].append(p)\n",
    "    return cluster_dct\n",
    "\n",
    "def calculate_min_dist(point_indices):\n",
    "    n = len(point_indices)\n",
    "    dist_mat = np.zeros((n, n))\n",
    "    for i in range(n):\n",
    "        for j in range(n):\n",
    "            if i != j:\n",
    "                dist = distance(points[point_indices[i]], points[point_indices[j]])\n",
    "                dist_mat[i][j] = dist\n",
    "    total_dists = dist_mat.sum(axis=1)\n",
    "    min_index = np.argmin(total_dists)\n",
    "    return point_indices[min_index]\n",
    "\n",
    "def M_step(points, cluster_dct, centers):\n",
    "    cluster_1_points = cluster_dct['cluster_1']\n",
    "    cluster_2_points = cluster_dct['cluster_2']\n",
    "\n",
    "    if len(cluster_1_points) == 2:\n",
    "        center1_idx = min(cluster_1_points)\n",
    "    else:\n",
    "        center1_idx = calculate_min_dist(cluster_1_points)\n",
    "    center1 = points[center1_idx]\n",
    "\n",
    "    if len(cluster_2_points) == 2:\n",
    "        center2_idx = min(cluster_2_points)\n",
    "    else:\n",
    "        center2_idx = calculate_min_dist(cluster_2_points)\n",
    "    center2 = points[center2_idx]\n",
    "\n",
    "    centers['cluster_1'] = center1\n",
    "    centers['cluster_2'] = center2\n",
    "    return centers\n",
    "\n",
    "for i in range(100):\n",
    "    cluster_dct = assign_clusters(points, centers)\n",
    "    centers = M_step(points, cluster_dct, centers)\n",
    "\n",
    "print('final centers:', centers)\n",
    "print('cluster_points:', cluster_dct)"
   ]
  },
  {
   "cell_type": "code",
   "execution_count": 39,
   "metadata": {},
   "outputs": [
    {
     "name": "stdout",
     "output_type": "stream",
     "text": [
      "final centers: {'cluster_1': array([-0.5,  3. ]), 'cluster_2': array([ 0., -3.])}\n",
      "cluster_points: {'cluster_1': [1, 3], 'cluster_2': [0, 2]}\n"
     ]
    }
   ],
   "source": [
    "import numpy as np\n",
    "\n",
    "points = np.array([[0, -6], [4, 4], [0, 0], [-5, 2]])\n",
    "\n",
    "centers = {\n",
    "    'cluster_1': np.array([-5, 2]),\n",
    "    'cluster_2': np.array([0, -6])\n",
    "}\n",
    "\n",
    "def distance(a, b):\n",
    "    return np.abs(a - b).sum()\n",
    "\n",
    "def assign_clusters(points, centers):\n",
    "    cluster_dct = {'cluster_1': [], 'cluster_2': []}\n",
    "    for p in range(len(points)):\n",
    "        d1 = distance(points[p], centers['cluster_1'])\n",
    "        d2 = distance(points[p], centers['cluster_2'])\n",
    "        if d1 < d2:\n",
    "            cluster_dct['cluster_1'].append(p)\n",
    "        else:\n",
    "            cluster_dct['cluster_2'].append(p)\n",
    "    return cluster_dct\n",
    "\n",
    "def calculate_min_dist(point_indices):\n",
    "    n = len(point_indices)\n",
    "    dist_mat = np.zeros((n, n))\n",
    "    for i in range(n):\n",
    "        for j in range(n):\n",
    "            if i != j:\n",
    "                dist = distance(points[point_indices[i]], points[point_indices[j]])\n",
    "                dist_mat[i][j] = dist\n",
    "    total_dists = dist_mat.sum(axis=1)\n",
    "    min_index = np.argmin(total_dists)\n",
    "    return point_indices[min_index]\n",
    "\n",
    "def M_step(points, cluster_dct, centers):\n",
    "    cluster_1_points = cluster_dct['cluster_1']\n",
    "    cluster_2_points = cluster_dct['cluster_2']\n",
    "    center1=np.median(points[cluster_1_points], axis=0)\n",
    "    center2=np.median(points[cluster_2_points], axis=0)\n",
    "    centers['cluster_1'] = center1\n",
    "    centers['cluster_2'] = center2\n",
    "    return centers\n",
    "\n",
    "for i in range(100):\n",
    "    cluster_dct = assign_clusters(points, centers)\n",
    "    centers = M_step(points, cluster_dct, centers)\n",
    "\n",
    "print('final centers:', centers)\n",
    "print('cluster_points:', cluster_dct)"
   ]
  },
  {
   "cell_type": "code",
   "execution_count": null,
   "metadata": {},
   "outputs": [],
   "source": [
    "[-0.5,3]"
   ]
  }
 ],
 "metadata": {
  "kernelspec": {
   "display_name": ".venv",
   "language": "python",
   "name": "python3"
  },
  "language_info": {
   "codemirror_mode": {
    "name": "ipython",
    "version": 3
   },
   "file_extension": ".py",
   "mimetype": "text/x-python",
   "name": "python",
   "nbconvert_exporter": "python",
   "pygments_lexer": "ipython3",
   "version": "3.12.3"
  }
 },
 "nbformat": 4,
 "nbformat_minor": 2
}
