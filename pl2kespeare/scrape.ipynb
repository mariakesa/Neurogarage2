{
 "cells": [
  {
   "cell_type": "code",
   "execution_count": 1,
   "metadata": {},
   "outputs": [
    {
     "name": "stdout",
     "output_type": "stream",
     "text": [
      "Scraping: https://poeticneuroscience.blogspot.com/\n",
      "Scraping: https://poeticneuroscience.blogspot.com/search?updated-max=2021-09-16T06:14:00-07:00&max-results=7\n",
      "Scraping: https://poeticneuroscience.blogspot.com/search?updated-max=2021-02-02T20:13:00-08:00&max-results=7&start=7&by-date=false\n",
      "Scraping: https://poeticneuroscience.blogspot.com/search?updated-max=2021-02-02T16:59:00-08:00&max-results=7&start=14&by-date=false\n",
      "Scraping: https://poeticneuroscience.blogspot.com/search?updated-max=2020-03-23T21:51:00-07:00&max-results=7&start=21&by-date=false\n",
      "Scraping: https://poeticneuroscience.blogspot.com/search?updated-max=2016-11-05T05:14:00-07:00&max-results=7&start=28&by-date=false\n",
      "Scraping: https://poeticneuroscience.blogspot.com/search?updated-max=2016-08-13T14:51:00-07:00&max-results=7&start=35&by-date=false\n",
      "Scraping: https://poeticneuroscience.blogspot.com/search?updated-max=2016-06-19T18:07:00-07:00&max-results=7&start=42&by-date=false\n",
      "Scraping: https://poeticneuroscience.blogspot.com/search?updated-max=2016-05-03T12:17:00-07:00&max-results=7&start=49&by-date=false\n",
      "Scraping: https://poeticneuroscience.blogspot.com/search?updated-max=2016-03-14T07:23:00-07:00&max-results=7&start=56&by-date=false\n",
      "Scraping: https://poeticneuroscience.blogspot.com/search?updated-max=2016-02-11T05:37:00-08:00&max-results=7&start=63&by-date=false\n",
      "Saved 154 poems to poetic_neuroscience.json\n"
     ]
    }
   ],
   "source": [
    "import requests\n",
    "from bs4 import BeautifulSoup\n",
    "import json\n",
    "import time\n",
    "\n",
    "BASE_URL = \"https://poeticneuroscience.blogspot.com/\"\n",
    "HEADERS = {'User-Agent': 'Mozilla/5.0'}\n",
    "\n",
    "def get_all_post_links():\n",
    "    links = set()\n",
    "    next_page = BASE_URL\n",
    "\n",
    "    while next_page:\n",
    "        print(f\"Scraping: {next_page}\")\n",
    "        res = requests.get(next_page, headers=HEADERS)\n",
    "        soup = BeautifulSoup(res.text, 'html.parser')\n",
    "\n",
    "        # Find all individual post links\n",
    "        for a in soup.find_all('a', href=True):\n",
    "            href = a['href']\n",
    "            if '/20' in href and 'html' in href:  # heuristic to filter posts\n",
    "                links.add(href)\n",
    "\n",
    "        # Find next page link\n",
    "        next_link = soup.find('a', {'class': 'blog-pager-older-link'})\n",
    "        next_page = next_link['href'] if next_link else None\n",
    "        time.sleep(1)  # be kind to the server\n",
    "\n",
    "    return list(links)\n",
    "\n",
    "def extract_poem(url):\n",
    "    res = requests.get(url, headers=HEADERS)\n",
    "    soup = BeautifulSoup(res.text, 'html.parser')\n",
    "\n",
    "    title_tag = soup.find('h3', class_='post-title')\n",
    "    content_div = soup.find('div', class_='post-body')\n",
    "\n",
    "    if not title_tag or not content_div:\n",
    "        return None\n",
    "\n",
    "    title = title_tag.text.strip()\n",
    "    content = content_div.get_text(separator=\"\\n\").strip()\n",
    "\n",
    "    return {\n",
    "        'title': title,\n",
    "        'url': url,\n",
    "        'text': content\n",
    "    }\n",
    "\n",
    "def main():\n",
    "    links = get_all_post_links()\n",
    "    poems = []\n",
    "\n",
    "    for link in links:\n",
    "        poem = extract_poem(link)\n",
    "        if poem:\n",
    "            poems.append(poem)\n",
    "        time.sleep(0.5)\n",
    "\n",
    "    with open('poetic_neuroscience.json', 'w', encoding='utf-8') as f:\n",
    "        json.dump(poems, f, indent=2, ensure_ascii=False)\n",
    "\n",
    "    print(f\"Saved {len(poems)} poems to poetic_neuroscience.json\")\n",
    "\n",
    "if __name__ == \"__main__\":\n",
    "    main()\n"
   ]
  },
  {
   "cell_type": "code",
   "execution_count": null,
   "metadata": {},
   "outputs": [
    {
     "name": "stdout",
     "output_type": "stream",
     "text": [
      "Loaded 5378662 characters from pl2kespeare.txt\n",
      "Saved 0 plays to shakespeare_gutenberg.json\n"
     ]
    }
   ],
   "source": [
    "import re\n",
    "import json\n",
    "\n",
    "# Load the full Shakespeare file\n",
    "with open(\"pl2kespeare.txt\", \"r\", encoding=\"utf-8\") as f:\n",
    "    full_text = f.read()\n",
    "\n",
    "# Use regex to find the start of each play\n",
    "play_splits = re.split(r\"\\*\\*\\* *THE .*? OF .*? \\*\\*\\*\", full_text, flags=re.IGNORECASE)\n",
    "play_titles = re.findall(r\"\\*\\*\\* *THE (.*?) \\*\\*\\*\", full_text, flags=re.IGNORECASE)\n",
    "\n",
    "# Clean and pair titles with corresponding texts\n",
    "plays = []\n",
    "for title, text in zip(play_titles, play_splits[1:]):  # skip the preamble\n",
    "    clean_title = title.title().strip()\n",
    "    clean_text = text.strip()\n",
    "    if len(clean_text) > 100:  # filter out empty chunks\n",
    "        plays.append({\n",
    "            \"title\": clean_title,\n",
    "            \"text\": clean_text\n",
    "        })\n",
    "\n",
    "# Save to JSON\n",
    "with open(\"shakespeare_gutenberg.json\", \"w\", encoding=\"utf-8\") as f:\n",
    "    json.dump(plays, f, indent=2, ensure_ascii=False)\n",
    "\n",
    "print(f\"Saved {len(plays)} plays to shakespeare_gutenberg.json\")\n"
   ]
  }
 ],
 "metadata": {
  "kernelspec": {
   "display_name": ".venv",
   "language": "python",
   "name": "python3"
  },
  "language_info": {
   "codemirror_mode": {
    "name": "ipython",
    "version": 3
   },
   "file_extension": ".py",
   "mimetype": "text/x-python",
   "name": "python",
   "nbconvert_exporter": "python",
   "pygments_lexer": "ipython3",
   "version": "3.12.3"
  }
 },
 "nbformat": 4,
 "nbformat_minor": 2
}
