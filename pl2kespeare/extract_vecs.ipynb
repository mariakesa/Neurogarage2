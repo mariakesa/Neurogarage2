{
 "cells": [
  {
   "cell_type": "code",
   "execution_count": 1,
   "metadata": {},
   "outputs": [
    {
     "name": "stderr",
     "output_type": "stream",
     "text": [
      "/home/maria/Neurogarage2/.venv/lib/python3.12/site-packages/tqdm/auto.py:21: TqdmWarning: IProgress not found. Please update jupyter and ipywidgets. See https://ipywidgets.readthedocs.io/en/stable/user_install.html\n",
      "  from .autonotebook import tqdm as notebook_tqdm\n",
      "Maria Poems: 100%|██████████| 154/154 [00:02<00:00, 75.56it/s] \n",
      "Shakespeare Plays: 100%|██████████| 13/13 [00:06<00:00,  2.11it/s]"
     ]
    },
    {
     "name": "stdout",
     "output_type": "stream",
     "text": [
      "Embeddings saved as maria_gpt2.npy and shakespeare_gpt2.npy\n"
     ]
    },
    {
     "name": "stderr",
     "output_type": "stream",
     "text": [
      "\n"
     ]
    }
   ],
   "source": [
    "import json\n",
    "import torch\n",
    "from transformers import GPT2Tokenizer, GPT2Model\n",
    "import numpy as np\n",
    "from tqdm import tqdm\n",
    "\n",
    "# Load GPT-2\n",
    "model_name = \"openai-community/gpt2\"\n",
    "tokenizer = GPT2Tokenizer.from_pretrained(model_name)\n",
    "model = GPT2Model.from_pretrained(model_name, output_hidden_states=True)\n",
    "model.eval()\n",
    "\n",
    "device = torch.device(\"cuda\" if torch.cuda.is_available() else \"cpu\")\n",
    "model.to(device)\n",
    "\n",
    "# Layers to extract\n",
    "target_layers = [3, 6, 9, 12]\n",
    "\n",
    "# Helper function\n",
    "def get_embedding(text):\n",
    "    inputs = tokenizer(text, return_tensors=\"pt\", truncation=True, max_length=512)\n",
    "    inputs = {k: v.to(device) for k, v in inputs.items()}\n",
    "    with torch.no_grad():\n",
    "        outputs = model(**inputs)\n",
    "\n",
    "    hidden_states = outputs.hidden_states  # tuple of (13, batch, seq_len, hidden_dim)\n",
    "    pooled = []\n",
    "    for layer in target_layers:\n",
    "        tensor = hidden_states[layer][0]  # [seq_len, hidden_dim]\n",
    "        mean_vec = tensor.mean(dim=0).cpu().numpy()  # [hidden_dim]\n",
    "        pooled.append(mean_vec)\n",
    "    return np.concatenate(pooled)  # [len(layers) * hidden_dim]\n",
    "\n",
    "# Load poem files\n",
    "with open(\"poetic_neuroscience.json\", \"r\", encoding=\"utf-8\") as f:\n",
    "    maria_poems = json.load(f)\n",
    "\n",
    "with open(\"shakespeare_gutenberg.json\", \"r\", encoding=\"utf-8\") as f:\n",
    "    shakespeare_plays = json.load(f)\n",
    "\n",
    "# Extract embeddings\n",
    "maria_embeddings = [get_embedding(entry[\"text\"]) for entry in tqdm(maria_poems, desc=\"Maria Poems\")]\n",
    "shakespeare_embeddings = [get_embedding(entry[\"text\"]) for entry in tqdm(shakespeare_plays, desc=\"Shakespeare Plays\")]\n",
    "\n",
    "# Save as .npy files\n",
    "np.save(\"maria_gpt2.npy\", np.stack(maria_embeddings))\n",
    "np.save(\"shakespeare_gpt2.npy\", np.stack(shakespeare_embeddings))\n",
    "\n",
    "print(\"Embeddings saved as maria_gpt2.npy and shakespeare_gpt2.npy\")\n"
   ]
  },
  {
   "cell_type": "code",
   "execution_count": 4,
   "metadata": {},
   "outputs": [
    {
     "name": "stdout",
     "output_type": "stream",
     "text": [
      "(3072,)\n"
     ]
    }
   ],
   "source": [
    "print(maria_embeddings[0].shape)"
   ]
  }
 ],
 "metadata": {
  "kernelspec": {
   "display_name": ".venv",
   "language": "python",
   "name": "python3"
  },
  "language_info": {
   "codemirror_mode": {
    "name": "ipython",
    "version": 3
   },
   "file_extension": ".py",
   "mimetype": "text/x-python",
   "name": "python",
   "nbconvert_exporter": "python",
   "pygments_lexer": "ipython3",
   "version": "3.12.3"
  }
 },
 "nbformat": 4,
 "nbformat_minor": 2
}
