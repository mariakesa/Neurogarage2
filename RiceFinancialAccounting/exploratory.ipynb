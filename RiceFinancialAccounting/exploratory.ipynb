{
 "cells": [
  {
   "cell_type": "code",
   "execution_count": null,
   "metadata": {},
   "outputs": [],
   "source": [
    "import pandas as pd"
   ]
  },
  {
   "cell_type": "code",
   "execution_count": 4,
   "metadata": {},
   "outputs": [],
   "source": [
    "dat=pd.read_csv(r'FinancialStatements.csv')"
   ]
  },
  {
   "cell_type": "code",
   "execution_count": 5,
   "metadata": {},
   "outputs": [
    {
     "data": {
      "text/plain": [
       "Index(['Year', 'Company ', 'Category', 'Market Cap(in B USD)', 'Revenue',\n",
       "       'Gross Profit', 'Net Income', 'Earning Per Share', 'EBITDA',\n",
       "       'Share Holder Equity', 'Cash Flow from Operating',\n",
       "       'Cash Flow from Investing', 'Cash Flow from Financial Activities',\n",
       "       'Current Ratio', 'Debt/Equity Ratio', 'ROE', 'ROA', 'ROI',\n",
       "       'Net Profit Margin', 'Free Cash Flow per Share',\n",
       "       'Return on Tangible Equity', 'Number of Employees',\n",
       "       'Inflation Rate(in US)'],\n",
       "      dtype='object')"
      ]
     },
     "execution_count": 5,
     "metadata": {},
     "output_type": "execute_result"
    }
   ],
   "source": [
    "dat.columns"
   ]
  },
  {
   "cell_type": "code",
   "execution_count": 6,
   "metadata": {},
   "outputs": [
    {
     "data": {
      "text/plain": [
       "161"
      ]
     },
     "execution_count": 6,
     "metadata": {},
     "output_type": "execute_result"
    }
   ],
   "source": [
    "len(dat)"
   ]
  }
 ],
 "metadata": {
  "kernelspec": {
   "display_name": ".venv",
   "language": "python",
   "name": "python3"
  },
  "language_info": {
   "codemirror_mode": {
    "name": "ipython",
    "version": 3
   },
   "file_extension": ".py",
   "mimetype": "text/x-python",
   "name": "python",
   "nbconvert_exporter": "python",
   "pygments_lexer": "ipython3",
   "version": "3.12.3"
  }
 },
 "nbformat": 4,
 "nbformat_minor": 2
}
