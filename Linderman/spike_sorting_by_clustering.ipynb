{
 "cells": [
  {
   "cell_type": "code",
   "execution_count": 1,
   "metadata": {},
   "outputs": [],
   "source": [
    "# First, import necessary libraries.\n",
    "import matplotlib.pyplot as plt\n",
    "import scipy.signal as signal\n",
    "import torch\n",
    "import torch.distributions as dist\n",
    "\n",
    "from jaxtyping import Float, Int\n",
    "from torch import Tensor\n"
   ]
  },
  {
   "cell_type": "code",
   "execution_count": 4,
   "metadata": {},
   "outputs": [
    {
     "name": "stdout",
     "output_type": "stream",
     "text": [
      "{'traces': tensor([[ 0.8770,  0.5215, -0.1815,  0.0071],\n",
      "        [ 0.1546,  0.6982,  2.0720,  0.7538],\n",
      "        [-0.1168, -0.4079,  1.3060,  0.5789],\n",
      "        ...,\n",
      "        [ 0.7008, -0.1540, -0.8441, -0.5124],\n",
      "        [ 0.9802, -3.0643,  0.6528, -0.7923],\n",
      "        [ 0.2438, -0.9812, -0.7622, -0.8182]]), 'true_spike_times': tensor([   1098,    1518,    1654,  ..., 3598763, 3599316, 3599395]), 'true_spike_ids': tensor([7, 4, 6,  ..., 1, 3, 0]), 'true_templates': tensor([[[ 4.2319e-06, -1.1858e-10,  5.3938e-17, -2.9172e-10],\n",
      "         [ 2.2904e-06,  9.8176e-11,  5.3938e-17,  3.9652e-11],\n",
      "         [ 1.0020e-06, -7.5312e-11, -2.6969e-17,  2.1384e-10],\n",
      "         ...,\n",
      "         [ 1.2336e-05,  3.9411e-08,  1.3485e-17,  1.0241e-09],\n",
      "         [ 9.4029e-06, -4.5982e-11,  2.5115e-16, -7.8744e-10],\n",
      "         [ 6.6659e-06,  1.2870e-10,  1.2726e-16,  5.4160e-10]],\n",
      "\n",
      "        [[-1.7336e-07, -2.4783e-07,  2.2242e-07,  3.9819e-16],\n",
      "         [ 1.5339e-07,  2.0000e-07, -9.7171e-08, -1.9909e-16],\n",
      "         [-1.3357e-07, -1.5236e-07, -2.7940e-08,  8.9592e-16],\n",
      "         ...,\n",
      "         [ 2.3432e-07,  3.9301e-07, -6.0017e-07,  5.9028e-16],\n",
      "         [-2.1381e-07, -3.4429e-07,  4.7381e-07,  5.2262e-16],\n",
      "         [ 1.9349e-07,  2.9592e-07, -3.4793e-07,  1.9909e-16]],\n",
      "\n",
      "        [[ 1.4039e-04,  2.3755e-10, -2.4290e-09,  1.2443e-17],\n",
      "         [ 6.7974e-05, -2.3094e-10,  8.9323e-09,  2.2398e-16],\n",
      "         [ 2.6000e-05,  1.9929e-10, -1.5464e-08, -7.4660e-17],\n",
      "         ...,\n",
      "         [ 4.8965e-04,  2.2879e-06, -1.6836e-08,  4.3552e-17],\n",
      "         [ 3.5956e-04,  2.2349e-07,  1.0472e-08,  2.0532e-16],\n",
      "         [ 2.4056e-04, -2.7307e-11, -4.0422e-09,  0.0000e+00]],\n",
      "\n",
      "        ...,\n",
      "\n",
      "        [[-5.9132e-17, -2.4021e-09,  2.2612e-06,  2.2311e-08],\n",
      "         [ 3.5479e-16,  2.0689e-09,  1.6255e-06,  2.0544e-08],\n",
      "         [-3.5479e-16, -1.7314e-09,  1.0724e-06,  1.8864e-08],\n",
      "         ...,\n",
      "         [-1.1826e-16,  3.2767e-09,  4.4729e-06,  2.8177e-08],\n",
      "         [ 0.0000e+00, -3.0300e-09,  3.6936e-06,  2.6122e-08],\n",
      "         [ 0.0000e+00,  2.7264e-09,  2.9550e-06,  2.4169e-08]],\n",
      "\n",
      "        [[-1.2557e-07,  2.0543e-06,  8.6301e-16,  8.2146e-07],\n",
      "         [ 1.1180e-07, -1.4582e-06,  0.0000e+00, -3.7745e-07],\n",
      "         [-9.7735e-08,  8.6244e-07,  8.6301e-16, -6.6786e-08],\n",
      "         ...,\n",
      "         [ 2.4069e-05, -3.8484e-06,  5.6635e-16, -2.1551e-06],\n",
      "         [ 1.3963e-06,  3.2490e-06,  7.3491e-16,  1.7100e-06],\n",
      "         [ 1.3466e-07, -2.6511e-06, -5.3938e-17, -1.2655e-06]],\n",
      "\n",
      "        [[-7.3916e-17, -1.9246e-09,  2.0706e-09,  5.8906e-10],\n",
      "         [ 2.0696e-16,  4.0349e-09, -1.2319e-09, -4.9673e-10],\n",
      "         [ 1.0348e-16, -6.1506e-09,  3.9286e-10,  4.0429e-10],\n",
      "         ...,\n",
      "         [-8.7775e-17, -4.3887e-09, -4.5866e-09, -8.6114e-10],\n",
      "         [ 1.8109e-16,  2.2859e-09,  3.7480e-09,  7.7215e-10],\n",
      "         [ 1.2935e-16, -1.8187e-10, -2.9093e-09, -6.8104e-10]]]), 'sampling_frequency': 30000}\n"
     ]
    }
   ],
   "source": [
    "# Load the data\n",
    "data = torch.load(\"lab01_data.pt\")\n",
    "traces = data[\"traces\"]\n",
    "true_spike_times = data[\"true_spike_times\"]\n",
    "true_spike_ids = data[\"true_spike_ids\"]\n",
    "true_templates = data[\"true_templates\"]\n",
    "\n",
    "# Extract scalar constants \n",
    "SAMPLING_FREQUENCY = data[\"sampling_frequency\"]\n",
    "NUM_SAMPLES, NUM_CHANNELS = traces.shape\n",
    "TRUE_NUM_SPIKES = true_spike_times.shape[0]\n",
    "TRUE_NUM_NEURONS, WINDOW_SIZE, _ = true_templates.shape\n",
    "\n",
    "print(data)"
   ]
  },
  {
   "cell_type": "code",
   "execution_count": null,
   "metadata": {},
   "outputs": [],
   "source": []
  }
 ],
 "metadata": {
  "kernelspec": {
   "display_name": ".venv",
   "language": "python",
   "name": "python3"
  },
  "language_info": {
   "codemirror_mode": {
    "name": "ipython",
    "version": 3
   },
   "file_extension": ".py",
   "mimetype": "text/x-python",
   "name": "python",
   "nbconvert_exporter": "python",
   "pygments_lexer": "ipython3",
   "version": "3.12.3"
  }
 },
 "nbformat": 4,
 "nbformat_minor": 2
}
