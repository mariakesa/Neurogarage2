{
 "cells": [
  {
   "cell_type": "code",
   "execution_count": 1,
   "metadata": {},
   "outputs": [
    {
     "name": "stdout",
     "output_type": "stream",
     "text": [
      "If he chose to dispose of one-eighth or of the whole of it by selling it outright, or by leasing it for two or five or ten years, he had the right to do it. \"And the said lessors expressly reserve to themselves the property and right of property in all minerals to be extracted from said premises during the term of this lease. The second was, that by making the lease, the complainant had, within the meaning of the fifth clause of the contract, disposed of the mining property so as to become immediately liable for the residue of said ten thousand dollars. \"Second. [Seal.]\" To pay on behalf of said Edward R. Sumner, for the benefit of Edward H. Sumner, owner of said one-eighth interest of the whole of said mine, one-eighth part of all the expenses for litigation regarding the title and the possession thereof, or for trespasses which may be committed upon said property from and after the date above written. Obviously the word \"dispose\" must have some meaning in the contract, and is not synonymous with the word \"sell.\" Selling is but one mode of disposing of property.\" \"GEORGE A. JENKS. We shall therefore consider the soundness of this instruction. This is a writ of error to the Circuit Court of the United States for the District of Colorado. Any contract made by Hill, which would put it out of his power to perform this obligation, was the thing to be guarded against, and the only guard which the contract provided was that he should not make such disposal of even one-eighth of the property. \"ROBERT ESSER. It appears from the record that on and prior to the 12th day of February, 1880, the defendant Hill and Edward R. Sumner, and his son, Edward H. Sumner, were the owners of a mine, called the Buckeye Lode, situated on Fryer Hill, in the California mining district, in the county of Lake and State of Colorado; that the said Edward R. Sumner was the owner of one-eighth and his son, Edward H. Sumner, the owner of another one-eighth, undivided, of this mine, of which Hill was the owner of the remainder. Two issues were raised by the pleadings in the case. It appears from the record that Hill continued work upon the mine and received credit upon this written contract until October 10, 1883, and about that time he ceased to work upon it or to make any further effort to develop it. [Seal.] In such event, however, he became liable to Sumner for so much of the ten thousand dollars as had not been exhausted by paying the contributions properly assessable against the one-eighth of Edward H. Sumner. It also appears that Hill was a man of considerable means, which was not the case with the others; that some work had been done upon the mine, and money expended upon it, which had been advanced mainly by Hill; that in this condition of affairs Edward R. Sumner sold his one-eighth in the mine to Hill, and took from Hill a written obligation to pay him ten thousand dollars for it, in the manner prescribed by an instrument in writing, of which the following is a copy:\n",
      "\"This is to certify that Edward R. Sumner, of Leadville, State of Colorado, has this day sold to me one undivided one-eighth part of the Buckeye Lode, vein, mine, or deposit, situated on Fryer Hill, in the California mining district, in the county of Lake, in the State of Colorado, for the sum of ten thousand dollars, to be paid as follows, to wit, ($1308.43,) one thousand three hundred eight [43/100] dollars cash in hand, the receipt of which is hereby acknowledged. In the circumstances of this case, it would seem to mean something more. \"(Signed)        DAVID K. HILL. The references of counsel in their briefs to decided cases attempting to define that word are of course of very little avail, as in each instance it must be taken in connection with the circumstances in which it is used. \"And in consideration of such demise the said lessee does covenant and agree with the said lessors as follows, to wit:\n",
      "\"To enter upon said mine or premises, and work the same *122 mine fashion, in manner necessary to good and economical mining, so as to take out the greatest amount of ore possible, with due regard to the development and preservation of the same as a workable mine, and to the special covenants hereinafter reserved. \"Witness my hand and seal this twelfth day of February, A.D. 1880, at Chicago, Illinois. \"Third. In the language of this court in the case of Phelps v. Harris, 101 U.S. 370, 380, \"the expression *124 `to dispose of' is very broad, and signifies more than `to sell.' \"DAVID K. HILL. The action was originally brought by Mary J. Sumner, the present defendant in error, against David K. Hill, plaintiff in error, in the District Court of Arapahoe County, in the State of Colorado, and was afterwards removed by Hill, on the ground of diverse citizenship, into the Circuit Court of the United States. This option he exercised by making the lease to Jenks. The court by instructing the jury that the execution of this lease by Hill caused the remainder of the ten thousand dollars to become due and payable, rendered it unnecessary for the jury to consider the first proposition, and if the court was right in that instruction, the verdict of the jury in favor of the plaintiff necessarily followed. As this view of the case was in accordance with instructions of the presiding judge, and is conclusive of it, the judgment of the Circuit Court is\n",
      "Affirmed \"To deliver to said lessors as royalty ten per cent of the net smelter returns of all ore extracted from said premises, running to and including twenty dollars ($20) per ton, and on all ores running over twenty dollars ($20) per ton, twenty-five per cent of the net smelter returns. It would be useless, if such were its construction. \"To keep at all times the drifts, shafts, tunnels and other workings thoroughly drained and clear of loose rock and rubbish, unless prevented by extraordinary mining casualty. If they have not, it was a losing venture, which he voluntarily entered upon. The definition of the words \"dispose of\" or \"sell,\" in this article, must be considered with reference to the remainder of the contract, to ascertain its meaning. \"In witness whereof the said parties have hereunto set their hands and seals. If the results of that lease have been as profitable as Hill might have supposed it would be, he could well afford to pay the remainder of the ten thousand dollars. It must mean something more or something less than the word \"sell.\" And after deducting all the aforesaid sums of money above mentioned I hereby agree to pay to the said Edward R. Sumner or his order the residue of the said ten thousand dollars out of the first production of my interest in said mine, so soon as the same shall be realized therefrom; and if at any time I shall dispose of or sell one-eighth part of said mining property, then and in that case the residue of said ten thousand dollars shall become immediately due and payable to the said Edward R. Sumner or his order. \"Each and every clause and covenant of this agreement of *123 lease shall extend to the heirs, executors, administrators and lawful assigns of all parties hereto. \"And, finally, that upon the violation of any covenant or covenants hereinbefore reserved, the term of this lease shall, at the option of the lessors, expire, and the same, with said premises, with the appurtenances, shall become forfeited to said lessors, and said lessors, or their agent, may, thereupon, after demand of possession in writing, enter upon said premises and dispossess all persons occupying the same, with or without process of law, or, at the option of said lessors, the said tenant and all persons found in occupation may be proceeded against as guilty of unlawful detainer. The obligation of Hill was assigned by Edward R. Sumner to Mary J. Sumner, the present plaintiff in error who brought this action. Looking, then, to the purposes which Edward R. Sumner had in view in the use of this clause, by which the sale or disposal of one-eighth of the property rendered the ten thousand dollars due, less the credits that should have been entered upon it at that time, it is obvious that it was expected that Hill would continue to make efforts to develop the mine and put it in profitable working condition, until all parties were ready to abandon it as a useless experiment, or until the ten thousand dollars which Hill had agreed to pay Edward R. Sumner had been exhausted by payments of contribution on account of the one-eighth interest remaining in Edward H. Sumner. The first of these was that there was a failure on the part of Hill to prosecute with due diligence his obligation to develop the mine, whereby the sum of ten thousand dollars less the sums credited on the contract became due. \"To deliver to the said lessors the said premises, with the appurtenances and all improvements, in good order and condition, with all drifts, shafts, tunnels and other passages thoroughly clear of loose rock and rubbish, and drained, and the mine ready for immediate continued work, (accidents not arising from negligence alone excluded,) without demand or further notice, on said 29th day of July, A.D. 1887, at noon, or at any time previous, upon demand for forfeiture. \"To well and sufficiently timber said mine at all points, where proper in accordance with good mining, and to repair all old timbering wherever it may become necessary. The following is a copy of this lease:\n",
      "\"This agreement of lease, made this 29th day of July, in the year of our Lord one thousand eight hundred and eighty-five, between David K. Hill, of the city of Chicago, county of Cook, and State of Illinois, and Robert Esser, of the city of Leadville, county of Lake, and State of Colorado, lessors, and George A. Jenks, of the city of Leadville, county of Lake, and State of Colorado, lessee, witnesseth:\n",
      "\"That the said lessors, for and in consideration of the royalties, covenants and agreements hereinafter reserved and by the said lessee to be paid, kept and performed, have granted demised and let, and by these presents do grant, demise and let unto the said lessee all the following described mine and mining property situate in California mining district, county of Lake, and State of Colorado, to wit:\n",
      "\"All their interest in the `Buckeye' Lode mining claim, situate on the north slope of Fryer Hill, in said mining district, county, and State, together with the appurtenances:\n",
      "\"To have and to hold unto the said lessee for the term of two years from date hereof, expiring at noon on the 29th day of July, A.D. 1887, unless sooner forfeited or determined, through the violation of any covenant hereinafter against the said tenant reserved. In no case am I to pay out more than ten thousand dollars on behalf of said Edward R. Sumner on the one-eighth interest of Edward H. Sumner, including the $1308.43 mentioned as paid above. \"Fourth.\n"
     ]
    }
   ],
   "source": [
    "import pandas as pd\n",
    "\n",
    "dat=pd.read_csv('//home/maria/Neurogarage2/scotusCebra/scotus_with_summaries.csv')\n",
    "print(dat.loc[7]['summary'])"
   ]
  },
  {
   "cell_type": "code",
   "execution_count": 20,
   "metadata": {},
   "outputs": [
    {
     "name": "stderr",
     "output_type": "stream",
     "text": [
      "/tmp/ipykernel_3826042/3642683332.py:2: DeprecationWarning: Importing display from IPython.core.display is deprecated since IPython 7.14, please import from IPython.display\n",
      "  from IPython.core.display import display, HTML\n"
     ]
    },
    {
     "data": {
      "text/html": [
       "1419, note following 16 U.S.C. See United States v. Richardson, 418 U.S. 166, 179, 94 S. Ct. 2940, 41 L. Ed. *1149 The doctrine of standing is one of several doctrines that reflect this fundamental limitation. Indeed, without further specification it is impossible to tell which projects are (in respondents' view) unlawfully subject to the regulations. 2d 675, where a plaintiff who alleged that he had been injured by an improper police chokehold sought injunctive relief barring use of the hold in the future. This vague desire to return is *1151 insufficient to satisfy the requirement of imminent injury: \"Such `some day' intentionswithout any description of concrete plans, or indeed any specification of when the some day will bedo not support a finding of the `actual or imminent' injury that our cases require.\" That can loosen the strictures of the redressability prong of our standing inquiryso that standing existed with regard to the Burnt Ridge Project, for example, despite the possibility that Earth Island's allegedly guaranteed right to comment would not be successful in persuading the Forest Service to avoid impairment of Earth Island's concrete interests. Unlike redressability, however, the requirement of injury in fact is a hard floor of Article III jurisdiction that cannot be removed by statute. Nowhere in the pleadings or affidavits did the Club state that its members use Mineral King for any purpose, much less that they use it in any way that would be significantly affected by the proposed actions of the respondents.\" The dissent cites no instance in which \"supplementation\" has been permitted to resurrect and alter the outcome in a case that has gone to judgment, and indeed after notice of appeal had been filed."
      ],
      "text/plain": [
       "<IPython.core.display.HTML object>"
      ]
     },
     "metadata": {},
     "output_type": "display_data"
    }
   ],
   "source": [
    "import pandas as pd\n",
    "from IPython.core.display import display, HTML\n",
    "\n",
    "# Load the dataset\n",
    "dat = pd.read_csv('/home/maria/Neurogarage2/scotusCebra/scotus_with_summaries_ordered.csv')\n",
    "\n",
    "# Extract the summary of a specific row\n",
    "summary_text = \" \".join(dat.loc[44, 'summary'].split())\n",
    "\n",
    "# Format the text for better readability in HTML\n",
    "formatted_summary = \"<p>\" + summary_text.replace(\". \", \".</p><p>\") + \"</p>\"\n",
    "\n",
    "# Display as HTML\n",
    "display(HTML(summary_text))"
   ]
  }
 ],
 "metadata": {
  "kernelspec": {
   "display_name": ".venv",
   "language": "python",
   "name": "python3"
  },
  "language_info": {
   "codemirror_mode": {
    "name": "ipython",
    "version": 3
   },
   "file_extension": ".py",
   "mimetype": "text/x-python",
   "name": "python",
   "nbconvert_exporter": "python",
   "pygments_lexer": "ipython3",
   "version": "3.12.3"
  }
 },
 "nbformat": 4,
 "nbformat_minor": 2
}
