{
 "cells": [
  {
   "cell_type": "code",
   "execution_count": 3,
   "metadata": {},
   "outputs": [
    {
     "name": "stdout",
     "output_type": "stream",
     "text": [
      "Hill v. Sumner\n"
     ]
    }
   ],
   "source": [
    "import pandas as pd\n",
    "\n",
    "dat=pd.read_csv('//home/maria/Neurogarage2/scotusCebra/scotus_with_summaries.csv')\n",
    "print(dat.loc[7]['case_name'])"
   ]
  },
  {
   "cell_type": "code",
   "execution_count": 2,
   "metadata": {},
   "outputs": [
    {
     "data": {
      "text/plain": [
       "Index(['author_name', 'category', 'per_curiam', 'case_name', 'date_filed',\n",
       "       'federal_cite_one', 'absolute_url', 'cluster', 'year_filed', 'scdb_id',\n",
       "       'scdb_decision_direction', 'scdb_votes_majority', 'scdb_votes_minority',\n",
       "       'text', 'summary'],\n",
       "      dtype='object')"
      ]
     },
     "execution_count": 2,
     "metadata": {},
     "output_type": "execute_result"
    }
   ],
   "source": [
    "dat.columns"
   ]
  },
  {
   "cell_type": "code",
   "execution_count": 20,
   "metadata": {},
   "outputs": [
    {
     "name": "stderr",
     "output_type": "stream",
     "text": [
      "/tmp/ipykernel_3826042/3642683332.py:2: DeprecationWarning: Importing display from IPython.core.display is deprecated since IPython 7.14, please import from IPython.display\n",
      "  from IPython.core.display import display, HTML\n"
     ]
    },
    {
     "data": {
      "text/html": [
       "1419, note following 16 U.S.C. See United States v. Richardson, 418 U.S. 166, 179, 94 S. Ct. 2940, 41 L. Ed. *1149 The doctrine of standing is one of several doctrines that reflect this fundamental limitation. Indeed, without further specification it is impossible to tell which projects are (in respondents' view) unlawfully subject to the regulations. 2d 675, where a plaintiff who alleged that he had been injured by an improper police chokehold sought injunctive relief barring use of the hold in the future. This vague desire to return is *1151 insufficient to satisfy the requirement of imminent injury: \"Such `some day' intentionswithout any description of concrete plans, or indeed any specification of when the some day will bedo not support a finding of the `actual or imminent' injury that our cases require.\" That can loosen the strictures of the redressability prong of our standing inquiryso that standing existed with regard to the Burnt Ridge Project, for example, despite the possibility that Earth Island's allegedly guaranteed right to comment would not be successful in persuading the Forest Service to avoid impairment of Earth Island's concrete interests. Unlike redressability, however, the requirement of injury in fact is a hard floor of Article III jurisdiction that cannot be removed by statute. Nowhere in the pleadings or affidavits did the Club state that its members use Mineral King for any purpose, much less that they use it in any way that would be significantly affected by the proposed actions of the respondents.\" The dissent cites no instance in which \"supplementation\" has been permitted to resurrect and alter the outcome in a case that has gone to judgment, and indeed after notice of appeal had been filed."
      ],
      "text/plain": [
       "<IPython.core.display.HTML object>"
      ]
     },
     "metadata": {},
     "output_type": "display_data"
    }
   ],
   "source": [
    "import pandas as pd\n",
    "from IPython.core.display import display, HTML\n",
    "\n",
    "# Load the dataset\n",
    "dat = pd.read_csv('/home/maria/Neurogarage2/scotusCebra/scotus_with_summaries_ordered.csv')\n",
    "\n",
    "# Extract the summary of a specific row\n",
    "summary_text = \" \".join(dat.loc[44, 'summary'].split())\n",
    "\n",
    "# Format the text for better readability in HTML\n",
    "formatted_summary = \"<p>\" + summary_text.replace(\". \", \".</p><p>\") + \"</p>\"\n",
    "\n",
    "# Display as HTML\n",
    "display(HTML(summary_text))"
   ]
  }
 ],
 "metadata": {
  "kernelspec": {
   "display_name": ".venv",
   "language": "python",
   "name": "python3"
  },
  "language_info": {
   "codemirror_mode": {
    "name": "ipython",
    "version": 3
   },
   "file_extension": ".py",
   "mimetype": "text/x-python",
   "name": "python",
   "nbconvert_exporter": "python",
   "pygments_lexer": "ipython3",
   "version": "3.12.3"
  }
 },
 "nbformat": 4,
 "nbformat_minor": 2
}
