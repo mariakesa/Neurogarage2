{
 "cells": [
  {
   "cell_type": "code",
   "execution_count": 1,
   "metadata": {},
   "outputs": [],
   "source": [
    "from sklearn.decomposition import PCA\n",
    "import numpy as np\n",
    "\n",
    "# Load embeddings\n",
    "embs = np.load('scotus_embeddings.npy')  # shape: (35000, 3000)\n",
    "\n",
    "# Reduce to 750 dimensions\n",
    "pca = PCA(n_components=750)\n",
    "embs_reduced = pca.fit_transform(embs)\n",
    "\n",
    "# Save for later use\n",
    "np.save('scotus_embeddings_pca750.npy', embs_reduced)\n"
   ]
  },
  {
   "cell_type": "code",
   "execution_count": null,
   "metadata": {},
   "outputs": [],
   "source": [
    "import torch\n",
    "import torch.nn as nn\n",
    "import torch.nn.functional as F\n",
    "\n",
    "class VectorQuantizer(nn.Module):\n",
    "    def __init__(self, num_embeddings, embedding_dim, commitment_cost):\n",
    "        super().__init__()\n",
    "        self.embedding_dim = embedding_dim\n",
    "        self.num_embeddings = num_embeddings\n",
    "        self.commitment_cost = commitment_cost\n",
    "\n",
    "        self.embeddings = nn.Embedding(num_embeddings, embedding_dim)\n",
    "        self.embeddings.weight.data.uniform_(-1/num_embeddings, 1/num_embeddings)\n",
    "\n",
    "    def forward(self, z):\n",
    "        # Flatten input\n",
    "        z_flat = z.view(-1, self.embedding_dim)\n",
    "\n",
    "        # Compute distances\n",
    "        dist = (\n",
    "            torch.sum(z_flat ** 2, dim=1, keepdim=True)\n",
    "            - 2 * torch.matmul(z_flat, self.embeddings.weight.t())\n",
    "            + torch.sum(self.embeddings.weight ** 2, dim=1)\n",
    "        )\n",
    "\n",
    "        # Get nearest encoding\n",
    "        encoding_indices = torch.argmin(dist, dim=1)\n",
    "        encodings = F.one_hot(encoding_indices, self.num_embeddings).type(z.dtype)\n",
    "\n",
    "        # Quantize\n",
    "        quantized = torch.matmul(encodings, self.embeddings.weight)\n",
    "\n",
    "        # Reshape to original input\n",
    "        quantized = quantized.view(z.shape)\n",
    "\n",
    "        # Losses\n",
    "        e_loss = F.mse_loss(quantized.detach(), z)\n",
    "        q_loss = F.mse_loss(quantized, z.detach())\n",
    "        loss = q_loss + self.commitment_cost * e_loss\n",
    "\n",
    "        # Straight-through estimator\n",
    "        quantized = z + (quantized - z).detach()\n",
    "\n",
    "        return quantized, loss, encoding_indices\n",
    "\n",
    "class VQVAE(nn.Module):\n",
    "    def __init__(self, input_dim=750, hidden_dim=512, latent_dim=64, num_embeddings=128, commitment_cost=0.25):\n",
    "        super().__init__()\n",
    "        self.encoder = nn.Sequential(\n",
    "            nn.Linear(input_dim, hidden_dim),\n",
    "            nn.ReLU(),\n",
    "            nn.Linear(hidden_dim, latent_dim)\n",
    "        )\n",
    "        self.vq = VectorQuantizer(num_embeddings, latent_dim, commitment_cost)\n",
    "        self.decoder = nn.Sequential(\n",
    "            nn.Linear(latent_dim, hidden_dim),\n",
    "            nn.ReLU(),\n",
    "            nn.Linear(hidden_dim, input_dim)\n",
    "        )\n",
    "\n",
    "    def forward(self, x):\n",
    "        z = self.encoder(x)\n",
    "        quantized, vq_loss, encoding_indices = self.vq(z)\n",
    "        x_recon = self.decoder(quantized)\n",
    "        recon_loss = F.mse_loss(x_recon, x)\n",
    "        loss = recon_loss + vq_loss\n",
    "        return x_recon, loss, encoding_indices\n"
   ]
  },
  {
   "cell_type": "code",
   "execution_count": 7,
   "metadata": {},
   "outputs": [],
   "source": [
    "data = torch.tensor(np.load('scotus_embeddings_pca750.npy'), dtype=torch.float32)\n"
   ]
  },
  {
   "cell_type": "code",
   "execution_count": 14,
   "metadata": {},
   "outputs": [
    {
     "name": "stdout",
     "output_type": "stream",
     "text": [
      "Epoch 0, Loss: 0.0030\n",
      "Epoch 1, Loss: 0.0019\n",
      "Epoch 2, Loss: 0.0013\n",
      "Epoch 3, Loss: 0.0010\n",
      "Epoch 4, Loss: 0.0010\n",
      "Epoch 5, Loss: 0.0009\n",
      "Epoch 6, Loss: 0.0009\n",
      "Epoch 7, Loss: 0.0010\n",
      "Epoch 8, Loss: 0.0010\n",
      "Epoch 9, Loss: 0.0010\n",
      "Epoch 10, Loss: 0.0009\n",
      "Epoch 11, Loss: 0.0009\n",
      "Epoch 12, Loss: 0.0009\n",
      "Epoch 13, Loss: 0.0009\n",
      "Epoch 14, Loss: 0.0008\n",
      "Epoch 15, Loss: 0.0008\n",
      "Epoch 16, Loss: 0.0008\n",
      "Epoch 17, Loss: 0.0008\n",
      "Epoch 18, Loss: 0.0008\n",
      "Epoch 19, Loss: 0.0008\n",
      "Epoch 20, Loss: 0.0008\n",
      "Epoch 21, Loss: 0.0008\n",
      "Epoch 22, Loss: 0.0008\n",
      "Epoch 23, Loss: 0.0007\n",
      "Epoch 24, Loss: 0.0007\n",
      "Epoch 25, Loss: 0.0007\n",
      "Epoch 26, Loss: 0.0007\n",
      "Epoch 27, Loss: 0.0007\n",
      "Epoch 28, Loss: 0.0007\n",
      "Epoch 29, Loss: 0.0007\n",
      "Epoch 30, Loss: 0.0007\n",
      "Epoch 31, Loss: 0.0007\n",
      "Epoch 32, Loss: 0.0007\n",
      "Epoch 33, Loss: 0.0007\n",
      "Epoch 34, Loss: 0.0007\n",
      "Epoch 35, Loss: 0.0007\n",
      "Epoch 36, Loss: 0.0007\n",
      "Epoch 37, Loss: 0.0007\n",
      "Epoch 38, Loss: 0.0007\n",
      "Epoch 39, Loss: 0.0007\n",
      "Epoch 40, Loss: 0.0007\n",
      "Epoch 41, Loss: 0.0007\n",
      "Epoch 42, Loss: 0.0007\n",
      "Epoch 43, Loss: 0.0007\n",
      "Epoch 44, Loss: 0.0007\n",
      "Epoch 45, Loss: 0.0007\n",
      "Epoch 46, Loss: 0.0007\n",
      "Epoch 47, Loss: 0.0007\n",
      "Epoch 48, Loss: 0.0007\n",
      "Epoch 49, Loss: 0.0007\n",
      "Epoch 50, Loss: 0.0007\n",
      "Epoch 51, Loss: 0.0007\n",
      "Epoch 52, Loss: 0.0007\n",
      "Epoch 53, Loss: 0.0007\n",
      "Epoch 54, Loss: 0.0007\n",
      "Epoch 55, Loss: 0.0007\n",
      "Epoch 56, Loss: 0.0007\n",
      "Epoch 57, Loss: 0.0007\n",
      "Epoch 58, Loss: 0.0007\n",
      "Epoch 59, Loss: 0.0007\n",
      "Epoch 60, Loss: 0.0007\n",
      "Epoch 61, Loss: 0.0007\n",
      "Epoch 62, Loss: 0.0007\n",
      "Epoch 63, Loss: 0.0007\n",
      "Epoch 64, Loss: 0.0007\n",
      "Epoch 65, Loss: 0.0007\n",
      "Epoch 66, Loss: 0.0007\n",
      "Epoch 67, Loss: 0.0007\n",
      "Epoch 68, Loss: 0.0007\n",
      "Epoch 69, Loss: 0.0007\n",
      "Epoch 70, Loss: 0.0007\n",
      "Epoch 71, Loss: 0.0007\n",
      "Epoch 72, Loss: 0.0007\n",
      "Epoch 73, Loss: 0.0007\n",
      "Epoch 74, Loss: 0.0007\n",
      "Epoch 75, Loss: 0.0007\n",
      "Epoch 76, Loss: 0.0007\n",
      "Epoch 77, Loss: 0.0007\n",
      "Epoch 78, Loss: 0.0007\n",
      "Epoch 79, Loss: 0.0007\n",
      "Epoch 80, Loss: 0.0007\n",
      "Epoch 81, Loss: 0.0007\n",
      "Epoch 82, Loss: 0.0007\n",
      "Epoch 83, Loss: 0.0007\n",
      "Epoch 84, Loss: 0.0007\n",
      "Epoch 85, Loss: 0.0007\n",
      "Epoch 86, Loss: 0.0007\n",
      "Epoch 87, Loss: 0.0007\n",
      "Epoch 88, Loss: 0.0007\n",
      "Epoch 89, Loss: 0.0007\n",
      "Epoch 90, Loss: 0.0007\n",
      "Epoch 91, Loss: 0.0007\n",
      "Epoch 92, Loss: 0.0007\n",
      "Epoch 93, Loss: 0.0007\n",
      "Epoch 94, Loss: 0.0007\n",
      "Epoch 95, Loss: 0.0007\n",
      "Epoch 96, Loss: 0.0007\n",
      "Epoch 97, Loss: 0.0007\n",
      "Epoch 98, Loss: 0.0007\n",
      "Epoch 99, Loss: 0.0007\n"
     ]
    }
   ],
   "source": [
    "model = VQVAE(\n",
    "    input_dim=750,\n",
    "    hidden_dim=512,\n",
    "    latent_dim=64,\n",
    "    num_embeddings=128,  # 👈 number of clusters!\n",
    "    commitment_cost=0.25\n",
    ")\n",
    "optimizer = torch.optim.Adam(model.parameters(), lr=1e-3)\n",
    "\n",
    "for epoch in range(50):\n",
    "    x_recon, loss, _ = model(data)\n",
    "    optimizer.zero_grad()\n",
    "    loss.backward()\n",
    "    optimizer.step()\n",
    "    print(f\"Epoch {epoch}, Loss: {loss.item():.4f}\")\n"
   ]
  },
  {
   "cell_type": "code",
   "execution_count": 16,
   "metadata": {},
   "outputs": [],
   "source": [
    "model.eval()\n",
    "with torch.no_grad():\n",
    "    _, _, cluster_assignments = model(data)  # data = your PCA-reduced embeddings\n",
    "\n",
    "# Convert to numpy\n",
    "clusters = cluster_assignments.cpu().numpy()"
   ]
  },
  {
   "cell_type": "code",
   "execution_count": 17,
   "metadata": {},
   "outputs": [
    {
     "data": {
      "text/plain": [
       "array([ 88,   9,  88, ..., 103, 103,   9])"
      ]
     },
     "execution_count": 17,
     "metadata": {},
     "output_type": "execute_result"
    }
   ],
   "source": [
    "clusters"
   ]
  },
  {
   "cell_type": "code",
   "execution_count": 18,
   "metadata": {},
   "outputs": [
    {
     "data": {
      "text/plain": [
       "[<matplotlib.lines.Line2D at 0x7156dbf32e10>]"
      ]
     },
     "execution_count": 18,
     "metadata": {},
     "output_type": "execute_result"
    },
    {
     "data": {
      "image/png": "[encoded data removed]",
      "text/plain": [
       "<Figure size 640x480 with 1 Axes>"
      ]
     },
     "metadata": {},
     "output_type": "display_data"
    }
   ],
   "source": [
    "import matplotlib.pyplot as plt\n",
    "plt.plot(clusters)"
   ]
  },
  {
   "cell_type": "code",
   "execution_count": 19,
   "metadata": {},
   "outputs": [
    {
     "name": "stdout",
     "output_type": "stream",
     "text": [
      "{np.int64(1): np.int64(470), np.int64(3): np.int64(657), np.int64(5): np.int64(1826), np.int64(9): np.int64(1004), np.int64(11): np.int64(1053), np.int64(12): np.int64(758), np.int64(13): np.int64(608), np.int64(14): np.int64(591), np.int64(18): np.int64(1356), np.int64(20): np.int64(898), np.int64(25): np.int64(1), np.int64(27): np.int64(382), np.int64(29): np.int64(674), np.int64(39): np.int64(1266), np.int64(43): np.int64(3), np.int64(50): np.int64(562), np.int64(54): np.int64(777), np.int64(55): np.int64(189), np.int64(60): np.int64(524), np.int64(62): np.int64(1188), np.int64(63): np.int64(1472), np.int64(65): np.int64(618), np.int64(67): np.int64(1308), np.int64(71): np.int64(703), np.int64(72): np.int64(1), np.int64(74): np.int64(1501), np.int64(76): np.int64(1), np.int64(79): np.int64(640), np.int64(80): np.int64(2049), np.int64(81): np.int64(1670), np.int64(82): np.int64(774), np.int64(88): np.int64(1024), np.int64(93): np.int64(597), np.int64(94): np.int64(889), np.int64(97): np.int64(7), np.int64(102): np.int64(121), np.int64(103): np.int64(1178), np.int64(105): np.int64(970), np.int64(108): np.int64(1425), np.int64(112): np.int64(18), np.int64(117): np.int64(110), np.int64(118): np.int64(310), np.int64(119): np.int64(88), np.int64(121): np.int64(876), np.int64(124): np.int64(1628), np.int64(126): np.int64(1016)}\n"
     ]
    }
   ],
   "source": [
    "import numpy as np\n",
    "unique, counts = np.unique(clusters, return_counts=True)\n",
    "print(dict(zip(unique, counts)))"
   ]
  },
  {
   "cell_type": "code",
   "execution_count": 20,
   "metadata": {},
   "outputs": [],
   "source": [
    "np.save('vqvae_clusters.npy', clusters)"
   ]
  }
 ],
 "metadata": {
  "kernelspec": {
   "display_name": ".venv",
   "language": "python",
   "name": "python3"
  },
  "language_info": {
   "codemirror_mode": {
    "name": "ipython",
    "version": 3
   },
   "file_extension": ".py",
   "mimetype": "text/x-python",
   "name": "python",
   "nbconvert_exporter": "python",
   "pygments_lexer": "ipython3",
   "version": "3.12.3"
  }
 },
 "nbformat": 4,
 "nbformat_minor": 2
}
