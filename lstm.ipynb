{
 "cells": [
  {
   "cell_type": "code",
   "execution_count": null,
   "metadata": {},
   "outputs": [
    {
     "name": "stdout",
     "output_type": "stream",
     "text": [
      "f: 0\n",
      "i: 1\n",
      "o: 0\n",
      "c: 0\n",
      "0\n"
     ]
    }
   ],
   "source": [
    "import math\n",
    "\n",
    "def th_transform(th):\n",
    "    if th>=1:\n",
    "        return 1\n",
    "    elif th<=-1:\n",
    "        return -1\n",
    "    else:\n",
    "        return th\n",
    "    \n",
    "def sigmoid_transform(sgm):\n",
    "    if sgm>=1:\n",
    "        return 1\n",
    "    elif sgm<=-1:\n",
    "        return 0\n",
    "    else:\n",
    "        return sgm\n",
    "\n",
    "def sigmoid(x):\n",
    "  return 1 / (1 + math.exp(-x))\n",
    "\n",
    "def f_t(h, x):\n",
    "    return sigmoid_transform(0*h+0*x-100)\n",
    "\n",
    "def i_t(h, x):\n",
    "    return sigmoid_transform(0*h+100*x+100)\n",
    "\n",
    "def o_t(h, x):\n",
    "    return sigmoid_transform(0*h+100*x-0)\n",
    "\n",
    "def c_t(f, i, c_prev,h,x):\n",
    "    return f*c_prev + i*th_transform(-100*h+50*x+0)\n",
    "\n",
    "def h_t(o,c):\n",
    "    return o*th_transform(c)\n",
    "\n",
    "#Step 0-->Input 0\n",
    "f=f_t(0,0)\n",
    "print('f:',f)\n",
    "i=i_t(0,0)\n",
    "print('i:',i)\n",
    "o=o_t(0,0)\n",
    "print('o:',o)\n",
    "c=c_t(f,i,0,0,0)\n",
    "print('c:',c)\n",
    "h=h_t(o,c)\n",
    "print(h)"
   ]
  },
  {
   "cell_type": "code",
   "execution_count": null,
   "metadata": {},
   "outputs": [],
   "source": []
  },
  {
   "cell_type": "code",
   "execution_count": 44,
   "metadata": {},
   "outputs": [
    {
     "name": "stdout",
     "output_type": "stream",
     "text": [
      "f: 0\n",
      "i: 1\n",
      "o: 0\n",
      "c: 0\n",
      "0\n"
     ]
    }
   ],
   "source": [
    "#step 1-->Input 0\n",
    "f=f_t(h,0)\n",
    "print('f:',f)\n",
    "i=i_t(h,0)\n",
    "print('i:',i)\n",
    "o=o_t(h,0)\n",
    "print('o:',o)\n",
    "c=c_t(f,i,0,h,0)\n",
    "print('c:',c)\n",
    "h=h_t(o,c)\n",
    "print(h)"
   ]
  },
  {
   "cell_type": "code",
   "execution_count": null,
   "metadata": {},
   "outputs": [],
   "source": []
  },
  {
   "cell_type": "code",
   "execution_count": 45,
   "metadata": {},
   "outputs": [
    {
     "name": "stdout",
     "output_type": "stream",
     "text": [
      "f: 0\n",
      "i: 1\n",
      "o: 1\n",
      "c: 1\n",
      "1\n"
     ]
    }
   ],
   "source": [
    "#Step2-->Input 1\n",
    "f=f_t(h,1)\n",
    "print('f:',f)\n",
    "i=i_t(h,1)\n",
    "print('i:',i)\n",
    "o=o_t(h,1)\n",
    "print('o:',o)\n",
    "c=c_t(f,i,0,h,1)\n",
    "print('c:',c)\n",
    "h=h_t(o,c)\n",
    "print(h)"
   ]
  },
  {
   "cell_type": "code",
   "execution_count": 46,
   "metadata": {},
   "outputs": [
    {
     "name": "stdout",
     "output_type": "stream",
     "text": [
      "f: 0\n",
      "i: 1\n",
      "o: 1\n",
      "c: -1\n",
      "-1\n"
     ]
    }
   ],
   "source": [
    "#Step 3-->Input 1\n",
    "f=f_t(h,1)\n",
    "print('f:',f)\n",
    "i=i_t(h,1)\n",
    "print('i:',i)\n",
    "o=o_t(h,1)\n",
    "print('o:',o)\n",
    "c=c_t(f,i,0,h,1)\n",
    "print('c:',c)\n",
    "h=h_t(o,c)\n",
    "print(h)"
   ]
  },
  {
   "cell_type": "code",
   "execution_count": 47,
   "metadata": {},
   "outputs": [
    {
     "name": "stdout",
     "output_type": "stream",
     "text": [
      "f: 0\n",
      "i: 1\n",
      "o: 1\n",
      "c: 1\n",
      "1\n"
     ]
    }
   ],
   "source": [
    "#Step 4-->Input 1\n",
    "f=f_t(h,1)\n",
    "print('f:',f)\n",
    "i=i_t(h,1)\n",
    "print('i:',i)\n",
    "o=o_t(h,1)\n",
    "print('o:',o)\n",
    "c=c_t(f,i,0,h,1)\n",
    "print('c:',c)\n",
    "h=h_t(o,c)\n",
    "print(h)"
   ]
  },
  {
   "cell_type": "code",
   "execution_count": 48,
   "metadata": {},
   "outputs": [
    {
     "name": "stdout",
     "output_type": "stream",
     "text": [
      "f: 0\n",
      "i: 1\n",
      "o: 0\n",
      "c: -1\n",
      "0\n"
     ]
    }
   ],
   "source": [
    "#Step 4-->Input 0\n",
    "f=f_t(h,0)\n",
    "print('f:',f)\n",
    "i=i_t(h,0)\n",
    "print('i:',i)\n",
    "o=o_t(h,0)\n",
    "print('o:',o)\n",
    "c=c_t(f,i,0,h,0)\n",
    "print('c:',c)\n",
    "h=h_t(o,c)\n",
    "print(h)"
   ]
  },
  {
   "cell_type": "code",
   "execution_count": 49,
   "metadata": {},
   "outputs": [
    {
     "name": "stdout",
     "output_type": "stream",
     "text": [
      "f: 0\n",
      "i: 1\n",
      "o: 1\n",
      "c: 1\n",
      "1\n"
     ]
    }
   ],
   "source": [
    "#Now stf\n",
    "#Step 0-->Input 1\n",
    "input=1\n",
    "f=f_t(0,input)\n",
    "print('f:',f)\n",
    "i=i_t(0,input)\n",
    "print('i:',i)\n",
    "o=o_t(0,input)\n",
    "print('o:',o)\n",
    "c=c_t(f,i,0,0,input)\n",
    "print('c:',c)\n",
    "h=h_t(o,c)\n",
    "print(h)"
   ]
  },
  {
   "cell_type": "code",
   "execution_count": 50,
   "metadata": {},
   "outputs": [
    {
     "name": "stdout",
     "output_type": "stream",
     "text": [
      "f: 0\n",
      "i: 1\n",
      "o: 1\n",
      "c: -1\n",
      "-1\n"
     ]
    }
   ],
   "source": [
    "#step 1-->Input 1\n",
    "inpput=1\n",
    "f=f_t(h,input)\n",
    "print('f:',f)\n",
    "i=i_t(h,input)\n",
    "print('i:',i)\n",
    "o=o_t(h,input)\n",
    "print('o:',o)\n",
    "c=c_t(f,i,0,h,input)\n",
    "print('c:',c)\n",
    "h=h_t(o,c)\n",
    "print(h)"
   ]
  },
  {
   "cell_type": "code",
   "execution_count": null,
   "metadata": {},
   "outputs": [
    {
     "name": "stdout",
     "output_type": "stream",
     "text": [
      "f: 0\n",
      "i: 1\n",
      "o: 0\n",
      "c: 1\n",
      "0\n"
     ]
    }
   ],
   "source": [
    "#step 1-->Input 0\n",
    "input=0\n",
    "f=f_t(h,input)\n",
    "print('f:',f)\n",
    "i=i_t(h,input)\n",
    "print('i:',i)\n",
    "o=o_t(h,input)\n",
    "print('o:',o)\n",
    "c=c_t(f,i,0,h,input)\n",
    "print('c:',c)\n",
    "h=h_t(o,c)\n",
    "print(h)"
   ]
  },
  {
   "cell_type": "code",
   "execution_count": 52,
   "metadata": {},
   "outputs": [
    {
     "name": "stdout",
     "output_type": "stream",
     "text": [
      "f: 0\n",
      "i: 1\n",
      "o: 1\n",
      "c: 1\n",
      "1\n"
     ]
    }
   ],
   "source": [
    "#step 1-->Input 1\n",
    "input=1\n",
    "f=f_t(h,input)\n",
    "print('f:',f)\n",
    "i=i_t(h,input)\n",
    "print('i:',i)\n",
    "o=o_t(h,input)\n",
    "print('o:',o)\n",
    "c=c_t(f,i,0,h,input)\n",
    "print('c:',c)\n",
    "h=h_t(o,c)\n",
    "print(h)"
   ]
  },
  {
   "cell_type": "code",
   "execution_count": 53,
   "metadata": {},
   "outputs": [
    {
     "name": "stdout",
     "output_type": "stream",
     "text": [
      "f: 0\n",
      "i: 1\n",
      "o: 1\n",
      "c: -1\n",
      "-1\n"
     ]
    }
   ],
   "source": [
    "#step 1-->Input 1\n",
    "input=1\n",
    "f=f_t(h,input)\n",
    "print('f:',f)\n",
    "i=i_t(h,input)\n",
    "print('i:',i)\n",
    "o=o_t(h,input)\n",
    "print('o:',o)\n",
    "c=c_t(f,i,0,h,input)\n",
    "print('c:',c)\n",
    "h=h_t(o,c)\n",
    "print(h)"
   ]
  },
  {
   "cell_type": "code",
   "execution_count": 56,
   "metadata": {},
   "outputs": [
    {
     "data": {
      "text/plain": [
       "0.28842841648243966"
      ]
     },
     "execution_count": 56,
     "metadata": {},
     "output_type": "execute_result"
    }
   ],
   "source": [
    "w_1=0.01\n",
    "w_2=-5\n",
    "b=-1\n",
    "x=3\n",
    "t=1\n",
    "\n",
    "z_1=w_1*x\n",
    "a_1=z_1\n",
    "z_2=w_2*a_1+b\n",
    "y=sigmoid(z_2)\n",
    "C=0.5*(y-t)**2\n",
    "C\n"
   ]
  },
  {
   "cell_type": "code",
   "execution_count": 58,
   "metadata": {},
   "outputs": [
    {
     "data": {
      "text/plain": [
       "-0.13872777081136367"
      ]
     },
     "execution_count": 58,
     "metadata": {},
     "output_type": "execute_result"
    }
   ],
   "source": [
    "(y-t)*y*(1-y)"
   ]
  },
  {
   "cell_type": "code",
   "execution_count": 59,
   "metadata": {},
   "outputs": [
    {
     "data": {
      "text/plain": [
       "2.0809165621704553"
      ]
     },
     "execution_count": 59,
     "metadata": {},
     "output_type": "execute_result"
    }
   ],
   "source": [
    "(y-t)*y*(1-y)*w_2*x"
   ]
  },
  {
   "cell_type": "code",
   "execution_count": 62,
   "metadata": {},
   "outputs": [
    {
     "data": {
      "text/plain": [
       "(0.9999996940977731, 3.05902226925625e-07)"
      ]
     },
     "execution_count": 62,
     "metadata": {},
     "output_type": "execute_result"
    }
   ],
   "source": [
    "x=[15,0]\n",
    "\n",
    "o1=math.e**15/(math.e**15+math.e**0)\n",
    "o2=math.e**0/(math.e**15+math.e**0)\n",
    "o1,o2"
   ]
  },
  {
   "cell_type": "code",
   "execution_count": 63,
   "metadata": {},
   "outputs": [
    {
     "data": {
      "text/plain": [
       "(0.8807970779778824, 0.11920292202211756)"
      ]
     },
     "execution_count": 63,
     "metadata": {},
     "output_type": "execute_result"
    }
   ],
   "source": [
    "o1=math.e**1/(math.e**1+math.e**-1)\n",
    "o2=math.e**-1/(math.e**1+math.e**-1)\n",
    "o1,o2"
   ]
  },
  {
   "cell_type": "code",
   "execution_count": 67,
   "metadata": {},
   "outputs": [
    {
     "data": {
      "text/plain": [
       "(0.9525741268224333, 0.11920292202211756)"
      ]
     },
     "execution_count": 67,
     "metadata": {},
     "output_type": "execute_result"
    }
   ],
   "source": [
    "o1=math.e**3/(math.e**3+math.e**0)\n",
    "o2=math.e**-1/(math.e**1+math.e**-1)\n",
    "o1,o2"
   ]
  },
  {
   "cell_type": "code",
   "execution_count": 70,
   "metadata": {},
   "outputs": [
    {
     "data": {
      "text/plain": [
       "2.3022515928828513"
      ]
     },
     "execution_count": 70,
     "metadata": {},
     "output_type": "execute_result"
    }
   ],
   "source": [
    "math.log(999)/3"
   ]
  }
 ],
 "metadata": {
  "kernelspec": {
   "display_name": ".venv",
   "language": "python",
   "name": "python3"
  },
  "language_info": {
   "codemirror_mode": {
    "name": "ipython",
    "version": 3
   },
   "file_extension": ".py",
   "mimetype": "text/x-python",
   "name": "python",
   "nbconvert_exporter": "python",
   "pygments_lexer": "ipython3",
   "version": "3.12.3"
  }
 },
 "nbformat": 4,
 "nbformat_minor": 2
}
