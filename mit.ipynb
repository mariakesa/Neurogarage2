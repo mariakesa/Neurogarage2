{
 "cells": [
  {
   "cell_type": "code",
   "execution_count": 2,
   "metadata": {},
   "outputs": [],
   "source": [
    "import numpy as np"
   ]
  },
  {
   "cell_type": "code",
   "execution_count": 3,
   "metadata": {},
   "outputs": [],
   "source": [
    "X=np.array([[1,0,0], [1,2,0], [1,3,0], [1,0,2],[1,2,2],[1,5,1],[1,5,2],[1,2,4],[1,4,4],[1,5,5]])\n",
    "y=np.array([-1,-1,-1,-1,-1,1,1,1,1,1])"
   ]
  },
  {
   "cell_type": "code",
   "execution_count": 7,
   "metadata": {},
   "outputs": [
    {
     "name": "stdout",
     "output_type": "stream",
     "text": [
      "[-0.88359788  0.45502646  0.24338624]\n"
     ]
    }
   ],
   "source": [
    "correct_vector=np.array([0]*10)\n",
    "w=np.array([0]*3)\n",
    "while np.any(correct_vector == 0):\n",
    "    for i in range(len(X)):\n",
    "        classification=X[i].dot(w)\n",
    "        if y[i] * classification >= 1:\n",
    "            correct_vector[i] = 1\n",
    "            continue\n",
    "        else:\n",
    "            hinge_loss=max(0, 1 - classification*y[i])\n",
    "            norm_sq_x=X[i].dot(X[i])\n",
    "            w=w + (hinge_loss/norm_sq_x)*X[i]*y[i]\n",
    "            correct_vector[i] = 1\n",
    "\n",
    "print(w)"
   ]
  },
  {
   "cell_type": "code",
   "execution_count": 11,
   "metadata": {},
   "outputs": [
    {
     "name": "stdout",
     "output_type": "stream",
     "text": [
      "Max-margin weight vector: [-4.99999808  0.99999981  0.99999961]\n",
      "Epochs until convergence: 1000\n",
      "All margins: [4.99999808 2.99999845 1.99999864 2.99999885 0.99999922 1.0000006\n",
      " 2.00000022 1.         2.99999963 4.99999905]\n",
      "Minimum margin: 0.999999224354946\n"
     ]
    }
   ],
   "source": [
    "import numpy as np\n",
    "\n",
    "# Augmented input (bias included)\n",
    "X = np.array([\n",
    "    [1, 0, 0], [1, 2, 0], [1, 3, 0], [1, 0, 2], [1, 2, 2],\n",
    "    [1, 5, 1], [1, 5, 2], [1, 2, 4], [1, 4, 4], [1, 5, 5]\n",
    "])\n",
    "y = np.array([-1, -1, -1, -1, -1, 1, 1, 1, 1, 1])\n",
    "\n",
    "w = np.zeros(3)\n",
    "converged = False\n",
    "epochs = 0\n",
    "max_epochs = 1000  # safety cap to prevent infinite loop\n",
    "\n",
    "while not converged and epochs < max_epochs:\n",
    "    converged = True  # will be set to False if any update occurs\n",
    "    for i in range(len(X)):\n",
    "        classification = X[i].dot(w)\n",
    "        margin = y[i] * classification\n",
    "        if margin >= 1:\n",
    "            continue\n",
    "        else:\n",
    "            hinge_loss = 1 - margin\n",
    "            norm_sq_x = X[i].dot(X[i])\n",
    "            tau = hinge_loss / norm_sq_x\n",
    "            w += tau * y[i] * X[i]\n",
    "            converged = False  # since an update was made\n",
    "    epochs += 1\n",
    "\n",
    "print(\"Max-margin weight vector:\", w)\n",
    "print(\"Epochs until convergence:\", epochs)\n",
    "\n",
    "# Check margins\n",
    "margins = y * (X @ w)\n",
    "print(\"All margins:\", margins)\n",
    "print(\"Minimum margin:\", np.min(margins))\n"
   ]
  },
  {
   "cell_type": "code",
   "execution_count": 19,
   "metadata": {},
   "outputs": [
    {
     "name": "stdout",
     "output_type": "stream",
     "text": [
      "1.5\n"
     ]
    }
   ],
   "source": [
    "w=np.array([-5,1,1])/2.0\n",
    "#w=np.array([-5,1,1])\n",
    "s=0\n",
    "for i in range(len(X)):\n",
    "    classification=X[i].dot(w)\n",
    "    z=y[i] * classification\n",
    "    s=s + max(0, 1 - z)\n",
    "print(s)"
   ]
  },
  {
   "cell_type": "code",
   "execution_count": 13,
   "metadata": {},
   "outputs": [
    {
     "name": "stdout",
     "output_type": "stream",
     "text": [
      "0.1924501624046398\n"
     ]
    }
   ],
   "source": [
    "m = 1 / np.linalg.norm(w)\n",
    "print(m)"
   ]
  },
  {
   "cell_type": "code",
   "execution_count": 16,
   "metadata": {},
   "outputs": [
    {
     "data": {
      "text/plain": [
       "np.float64(0.19245008972987526)"
      ]
     },
     "execution_count": 16,
     "metadata": {},
     "output_type": "execute_result"
    }
   ],
   "source": [
    "1.0/np.sqrt((5**2+1**2+1**2))"
   ]
  },
  {
   "cell_type": "code",
   "execution_count": 23,
   "metadata": {},
   "outputs": [
    {
     "name": "stdout",
     "output_type": "stream",
     "text": [
      "[ 21.       -22.627417  22.      ]\n"
     ]
    }
   ],
   "source": [
    "X=np.array([[0,0],[2,0],[1,1],[0,2],[3,3],[4,1],[5,2],[1,4],[4,4],[5,5]])\n",
    "y=np.array([-1,-1,-1,-1,-1,1,1,1,1,1])\n",
    "counts=[1,65,11,31,72,30,0,21,4,15]\n",
    "\n",
    "kernelized=[]\n",
    "\n",
    "for i in range(len(X)):\n",
    "    x=X[i]\n",
    "    kernelized.append([x[0]**2,np.sqrt(2)*x[0]*x[1],x[1]**2])\n",
    "\n",
    "w=np.array([0,0,0],dtype='float')\n",
    "for i in range(len(kernelized)):\n",
    "    w+=np.array(counts[i],dtype='float')*np.array(kernelized[i],dtype='float')*y[i]\n",
    "\n",
    "print(w)"
   ]
  },
  {
   "cell_type": "code",
   "execution_count": 25,
   "metadata": {},
   "outputs": [
    {
     "name": "stdout",
     "output_type": "stream",
     "text": [
      "Weight vector in feature space: [-110.         21.        -22.627417   22.      ]\n"
     ]
    }
   ],
   "source": [
    "X = np.array([\n",
    "    [0, 0], [2, 0], [1, 1], [0, 2], [3, 3],\n",
    "    [4, 1], [5, 2], [1, 4], [4, 4], [5, 5]\n",
    "])\n",
    "y = np.array([-1, -1, -1, -1, -1, 1, 1, 1, 1, 1])\n",
    "counts = [1, 65, 11, 31, 72, 30, 0, 21, 4, 15]\n",
    "\n",
    "# Apply feature map φ(x) = [x1^2, sqrt(2)*x1*x2, x2^2]\n",
    "phi = lambda x: np.array([\n",
    "    1,\n",
    "    x[0]**2,\n",
    "    np.sqrt(2) * x[0] * x[1],\n",
    "    x[1]**2\n",
    "], dtype='float')\n",
    "\n",
    "w = np.zeros(4)\n",
    "for i in range(len(X)):\n",
    "    w += counts[i] * y[i] * phi(X[i])\n",
    "\n",
    "print(\"Weight vector in feature space:\", w)"
   ]
  },
  {
   "cell_type": "code",
   "execution_count": 28,
   "metadata": {},
   "outputs": [
    {
     "name": "stdout",
     "output_type": "stream",
     "text": [
      "Weight vector in feature space: [-110.         21.        -22.627417   22.      ]\n",
      "Point 0: True label = -1, Prediction = -1.0, Correct = True\n",
      "Point 1: True label = -1, Prediction = -1.0, Correct = True\n",
      "Point 2: True label = -1, Prediction = -1.0, Correct = True\n",
      "Point 3: True label = -1, Prediction = -1.0, Correct = True\n",
      "Point 4: True label = -1, Prediction = -1.0, Correct = True\n",
      "Point 5: True label = 1, Prediction = 1.0, Correct = True\n",
      "Point 6: True label = 1, Prediction = 1.0, Correct = True\n",
      "Point 7: True label = 1, Prediction = 1.0, Correct = True\n",
      "Point 8: True label = 1, Prediction = 1.0, Correct = True\n",
      "Point 9: True label = 1, Prediction = 1.0, Correct = True\n",
      "✅ All points are linearly separated in feature space.\n"
     ]
    }
   ],
   "source": [
    "import numpy as np\n",
    "\n",
    "# Input data\n",
    "X = np.array([\n",
    "    [0, 0], [2, 0], [1, 1], [0, 2], [3, 3],\n",
    "    [4, 1], [5, 2], [1, 4], [4, 4], [5, 5]\n",
    "])\n",
    "y = np.array([-1, -1, -1, -1, -1, 1, 1, 1, 1, 1])\n",
    "counts = [1, 65, 11, 31, 72, 30, 0, 21, 4, 15]\n",
    "\n",
    "# Quadratic feature map: φ(x) = [x1^2, sqrt(2)*x1*x2, x2^2]\n",
    "# Apply feature map φ(x) = [x1^2, sqrt(2)*x1*x2, x2^2]\n",
    "phi = lambda x: np.array([\n",
    "    1,\n",
    "    x[0]**2,\n",
    "    np.sqrt(2) * x[0] * x[1],\n",
    "    x[1]**2\n",
    "], dtype='float')\n",
    "\n",
    "w = np.zeros(4)\n",
    "for i in range(len(X)):\n",
    "    w += counts[i] * y[i] * phi(X[i])\n",
    "\n",
    "print(\"Weight vector in feature space:\", w)\n",
    "\n",
    "# Step 2: Check separation\n",
    "separated = True\n",
    "for i in range(len(X)):\n",
    "    phi_x = phi(X[i])\n",
    "    prediction = np.sign(w @ phi_x)\n",
    "    correct = prediction == y[i]\n",
    "    print(f\"Point {i}: True label = {y[i]}, Prediction = {prediction}, Correct = {correct}\")\n",
    "    if not correct:\n",
    "        separated = False\n",
    "\n",
    "# Final verdict\n",
    "if separated:\n",
    "    print(\"✅ All points are linearly separated in feature space.\")\n",
    "else:\n",
    "    print(\"❌ Some points are NOT correctly classified by the feature-space linear separator.\")\n"
   ]
  }
 ],
 "metadata": {
  "kernelspec": {
   "display_name": ".venv",
   "language": "python",
   "name": "python3"
  },
  "language_info": {
   "codemirror_mode": {
    "name": "ipython",
    "version": 3
   },
   "file_extension": ".py",
   "mimetype": "text/x-python",
   "name": "python",
   "nbconvert_exporter": "python",
   "pygments_lexer": "ipython3",
   "version": "3.12.3"
  }
 },
 "nbformat": 4,
 "nbformat_minor": 2
}
