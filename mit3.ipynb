{
 "cells": [
  {
   "cell_type": "code",
   "execution_count": 16,
   "metadata": {},
   "outputs": [
    {
     "name": "stdout",
     "output_type": "stream",
     "text": [
      "{'s_1': 0.008333333333333331, 's_2': 0.024999999999999994, 's_3': 0.09999999999999998, 's_4': 0.3999999999999999, 's_5': 1.5999999999999996}\n"
     ]
    }
   ],
   "source": [
    "import numpy as np\n",
    "\n",
    "\n",
    "T={\n",
    "    ('s_1', 'stay'): [0.5, 0.5, 0, 0, 0],\n",
    "    ('s_1', 'left'):  [0.5,0.5,0,0,0],\n",
    "    ('s_1', 'right'): [2./3,1./3,0,0,0],\n",
    "\n",
    "    ('s_2','stay'): [0.25,0.5,0.25,0,0],\n",
    "    ('s_2','left'): [1./3,2./3,0,0,0],\n",
    "    ('s_2','right'): [0,2./3,1./3,0,0],\n",
    "    ('s_3','stay'): [0,0.25,0.5,0.25,0],\n",
    "    ('s_3', 'left'): [0,1./3,2./3,0,0],\n",
    "    ('s_3','right'): [0,0,2./3,1./3,0],\n",
    "    ('s_4', 'stay'): [0,0,0.25,0.5,0.25],\n",
    "    ('s_4','left'): [0,0,1./3,2./3,0],\n",
    "    ('s_4','right'): [0,0,0,2./3,1./3],\n",
    "    ('s_5','stay'): [0,0,0,0.5,0.5],\n",
    "    ('s_5','left'): [0,0,0,1./3,2./3],\n",
    "    ('s_5','right'):[0,0,0,0.5,0.5]}\n",
    "\n",
    "V={\n",
    "    's_1':0,\n",
    "    's_2':0,\n",
    "    's_3':0,\n",
    "    's_4':0,\n",
    "    's_5':0\n",
    "}\n",
    "V_next={\n",
    "    's_1':0,\n",
    "    's_2':0,\n",
    "    's_3':0,\n",
    "    's_4':0,\n",
    "    's_5':0\n",
    "}\n",
    "gamma=0.5\n",
    "states=['s_1','s_2','s_3','s_4','s_5']\n",
    "actions=['stay','left','right']\n",
    "rewards={\n",
    "    's_1':0,\n",
    "    's_2':0,\n",
    "    's_3':0,\n",
    "    's_4':0,\n",
    "    's_5':1\n",
    "}\n",
    "for iteration in range(0,100):\n",
    "    for s in states:\n",
    "        action_values=[]\n",
    "        for a in actions:\n",
    "            Ss=[]\n",
    "            i=0\n",
    "            for s_prime in V.keys():\n",
    "                update=T[(s,a)][i]*(rewards[s]+gamma*V[s_prime])\n",
    "                Ss.append(update)\n",
    "                i+=1\n",
    "            action_values.append(sum(Ss))\n",
    "        V_next[s]=max(action_values)\n",
    "    V=V_next.copy()\n",
    "\n",
    "print(V)\n",
    "\n"
   ]
  },
  {
   "cell_type": "code",
   "execution_count": 21,
   "metadata": {},
   "outputs": [
    {
     "data": {
      "text/plain": [
       "np.float64(6.643856189774725)"
      ]
     },
     "execution_count": 21,
     "metadata": {},
     "output_type": "execute_result"
    }
   ],
   "source": [
    "-np.log2(0.1)-np.log2(0.001)\n",
    "-np.log2(0.001)+np.log2(0.1)"
   ]
  },
  {
   "cell_type": "code",
   "execution_count": 43,
   "metadata": {},
   "outputs": [
    {
     "name": "stdout",
     "output_type": "stream",
     "text": [
      "{('A', 'UP'): 24.24999999998717, ('B', 'UP'): 30.999999999987168, ('B', 'DOWN'): 19.18749999998717, ('C', 'UP'): 39.99999999998717, ('C', 'DOWN'): 24.24999999998717, ('D', 'DOWN'): 39.99999999998717}\n",
      "{'A': 24.249999999999993, 'B': 30.99999999999999, 'C': 39.999999999999986, 'D': 39.999999999999986}\n"
     ]
    }
   ],
   "source": [
    "gamma=0.75\n",
    "\n",
    "T = {\n",
    "    ('A', 'UP'): ('B', 1),\n",
    "    # 'DOWN' not valid in 'A'\n",
    "    ('B', 'UP'): ('C', 1),\n",
    "    ('B', 'DOWN'): ('A', 1),\n",
    "    ('C', 'UP'): ('D', 10),\n",
    "    ('C', 'DOWN'): ('B', 1),\n",
    "    # 'UP' not valid in 'D'\n",
    "    ('D', 'DOWN'): ('C', 10)\n",
    "}\n",
    "\n",
    "actions=['UP', 'DOWN']\n",
    "\n",
    "states=['A','B','C','D']\n",
    "\n",
    "q_values = {sa: 0 for sa in T}\n",
    "\n",
    "def get_optimal_q(q_values, s_prime):\n",
    "    candidates = [q_values[(s_prime, a)] for (s, a) in q_values if s == s_prime]\n",
    "    return gamma * max(candidates) if candidates else 0\n",
    "\n",
    "def single_iteration(q_values):\n",
    "    new_q_values = {}\n",
    "    for (s, a) in T:\n",
    "        s_prime, reward = T[(s, a)]\n",
    "        new_q_values[(s, a)] = reward + get_optimal_q(q_values, s_prime)\n",
    "    return new_q_values\n",
    "\n",
    "for i in range(0,100):\n",
    "    new_q_values=single_iteration(q_values)\n",
    "    q_values=new_q_values\n",
    "\n",
    "print(q_values)\n",
    "\n",
    "values={'A': 0, 'B': 0, 'C': 0, 'D': 0}\n",
    "\n",
    "def single_iteration_value(values):\n",
    "    new_values={'A': 0, 'B': 0, 'C': 0, 'D': 0}\n",
    "    for s in values.keys():\n",
    "        a_list=[]\n",
    "        for a in actions:\n",
    "            if (s,a) in T:\n",
    "                s_prime=T[(s,a)][0]\n",
    "                immediate_reward=T[(s,a)][1]\n",
    "                update=immediate_reward+gamma*values[s_prime]\n",
    "                a_list.append(update)\n",
    "        new_values[s]=max(a_list) if a_list else 0\n",
    "    return new_values\n",
    "\n",
    "for iteration in range(0,1000):\n",
    "    new_values=single_iteration_value(values)\n",
    "    values=new_values\n",
    "\n",
    "print(values)\n",
    "\n",
    "\n"
   ]
  },
  {
   "cell_type": "code",
   "execution_count": 44,
   "metadata": {},
   "outputs": [
    {
     "data": {
      "text/plain": [
       "1.0161088135763985"
      ]
     },
     "execution_count": 44,
     "metadata": {},
     "output_type": "execute_result"
    }
   ],
   "source": [
    "import math\n",
    "0.7*(2**(1/3))+0.3/math.sqrt(5)"
   ]
  },
  {
   "cell_type": "code",
   "execution_count": 45,
   "metadata": {},
   "outputs": [
    {
     "data": {
      "text/plain": [
       "1.00441922206557"
      ]
     },
     "execution_count": 45,
     "metadata": {},
     "output_type": "execute_result"
    }
   ],
   "source": [
    "0.7*2**(1/3)+0.3/(math.sqrt(6))"
   ]
  },
  {
   "cell_type": "code",
   "execution_count": 46,
   "metadata": {},
   "outputs": [
    {
     "data": {
      "text/plain": [
       "0.9953340768291793"
      ]
     },
     "execution_count": 46,
     "metadata": {},
     "output_type": "execute_result"
    }
   ],
   "source": [
    "0.7*(2**(1/3))+0.3*(1/math.sqrt(7))"
   ]
  },
  {
   "cell_type": "code",
   "execution_count": null,
   "metadata": {},
   "outputs": [
    {
     "name": "stdout",
     "output_type": "stream",
     "text": [
      "[24.249999999999993, 30.99999999999999, 39.999999999999986, 39.999999999999986]\n",
      "UP\n",
      "DOWN\n",
      "UP\n",
      "DOWN\n",
      "UP\n",
      "DOWN\n",
      "UP\n",
      "DOWN\n",
      "UP\n",
      "DOWN\n",
      "UP\n",
      "DOWN\n",
      "UP\n",
      "DOWN\n",
      "UP\n",
      "DOWN\n",
      "UP\n",
      "DOWN\n",
      "UP\n",
      "DOWN\n",
      "UP\n",
      "DOWN\n",
      "UP\n",
      "DOWN\n",
      "UP\n",
      "DOWN\n",
      "UP\n",
      "DOWN\n",
      "UP\n",
      "DOWN\n",
      "UP\n",
      "DOWN\n",
      "UP\n",
      "DOWN\n",
      "UP\n",
      "DOWN\n",
      "UP\n",
      "DOWN\n",
      "UP\n",
      "DOWN\n",
      "UP\n",
      "DOWN\n",
      "UP\n",
      "DOWN\n",
      "UP\n",
      "DOWN\n",
      "UP\n",
      "DOWN\n",
      "UP\n",
      "DOWN\n",
      "UP\n",
      "DOWN\n",
      "UP\n",
      "DOWN\n",
      "UP\n",
      "DOWN\n",
      "UP\n",
      "DOWN\n",
      "UP\n",
      "DOWN\n",
      "UP\n",
      "DOWN\n",
      "UP\n",
      "DOWN\n",
      "UP\n"
     ]
    },
    {
     "ename": "KeyError",
     "evalue": "('A', 'UP')",
     "output_type": "error",
     "traceback": [
      "\u001b[0;31m---------------------------------------------------------------------------\u001b[0m",
      "\u001b[0;31mKeyError\u001b[0m                                  Traceback (most recent call last)",
      "Cell \u001b[0;32mIn[35], line 64\u001b[0m\n\u001b[1;32m     62\u001b[0m \u001b[38;5;28;01mfor\u001b[39;00m a_prime \u001b[38;5;129;01min\u001b[39;00m actions_:\n\u001b[1;32m     63\u001b[0m     \u001b[38;5;28mprint\u001b[39m(a_prime)\n\u001b[0;32m---> 64\u001b[0m     q\u001b[38;5;241m=\u001b[39m\u001b[43mq_values\u001b[49m\u001b[43m[\u001b[49m\u001b[43m(\u001b[49m\u001b[43mstates\u001b[49m\u001b[43m[\u001b[49m\u001b[43ms_prime\u001b[49m\u001b[43m]\u001b[49m\u001b[43m,\u001b[49m\u001b[43ma_prime\u001b[49m\u001b[43m)\u001b[49m\u001b[43m]\u001b[49m\n\u001b[1;32m     65\u001b[0m     qs\u001b[38;5;241m.\u001b[39mappend(q)\n\u001b[1;32m     66\u001b[0m sumz\u001b[38;5;241m.\u001b[39mappend(transitions[s_prime]\u001b[38;5;241m*\u001b[39m(immediate_reward\u001b[38;5;241m+\u001b[39mgamma\u001b[38;5;241m*\u001b[39m\u001b[38;5;28mmax\u001b[39m(qs)))\n",
      "\u001b[0;31mKeyError\u001b[0m: ('A', 'UP')"
     ]
    }
   ],
   "source": [
    "gamma=0.75\n",
    "\n",
    "T={\n",
    "    ('A', 'UP'): ([0,1,0,0], 1),\n",
    "    ('A', 'DOWN'): ([0,0,0,0], 0),\n",
    "    ('B', 'UP'): ([0,0,1,0], 1),\n",
    "    ('B', 'DOWN'): ([1,0,0,0], 1),\n",
    "    ('C', 'UP'): ([0,0,0,1], 10),\n",
    "    ('C', 'DOWN'): ([0,1,0,0],1),\n",
    "    ('D', 'UP'): ([0,0,0,0], 0),\n",
    "    ('D', 'DOWN'): ([0,0,1,0],10)\n",
    "}\n",
    "\n",
    "actions=['UP', 'DOWN']\n",
    "\n",
    "states=['A','B','C','D']\n",
    "\n",
    "values=[1,1,1,10]\n",
    "\n",
    "for iteration in range(10000):\n",
    "    new_values=[]\n",
    "    for s in range(4):\n",
    "        sumz=[]\n",
    "        for a in actions:\n",
    "            transitions=T[(states[s],a)][0]\n",
    "            immediate_reward=T[(states[s],a)][1]\n",
    "            for s_prime in range(4):\n",
    "                sumz.append(transitions[s_prime]*(immediate_reward+gamma*values[s_prime]))\n",
    "        update=max(sumz)\n",
    "        new_values.append(update)\n",
    "    values=new_values\n",
    "\n",
    "print(values)\n",
    "\n",
    "q_values={('A', 'UP'): 0,\n",
    "    ('A', 'DOWN'): 0,\n",
    "    ('B', 'UP'): 0,\n",
    "    ('B', 'DOWN'): 0,\n",
    "    ('C', 'UP'): 0,\n",
    "    ('C', 'DOWN'): 0,\n",
    "    ('D', 'UP'): 0,\n",
    "    ('D', 'DOWN'): 0\n",
    "}\n",
    "\n",
    "new_q_values={}\n",
    "\n",
    "for iteration in range(10000):\n",
    "    new_1_values={}\n",
    "    for s in range(4):\n",
    "        sumz=[]\n",
    "        for a in actions:\n",
    "            transitions=T[(states[s],a)][0]\n",
    "            immediate_reward=T[(states[s],a)][1]\n",
    "            for s_prime in range(4):\n",
    "                qs=[]\n",
    "                if s_prime=='A':\n",
    "                    actions_=['UP']\n",
    "                elif s_prime=='D':\n",
    "                    actions_=['DOWN']\n",
    "                else:\n",
    "                    actions_=actions.copy()\n",
    "                for a_prime in actions_:\n",
    "                    print(a_prime)\n",
    "                    q=q_values[(states[s_prime],a_prime)]\n",
    "                    qs.append(q)\n",
    "                sumz.append(transitions[s_prime]*(immediate_reward+gamma*max(qs)))\n",
    "        new_q_values[(states[s],a)]=sumz\n",
    "    q_values=new_q_values\n",
    "\n",
    "print(q_values)\n",
    "\n",
    "\n",
    "\n"
   ]
  },
  {
   "cell_type": "code",
   "execution_count": 37,
   "metadata": {},
   "outputs": [
    {
     "name": "stdout",
     "output_type": "stream",
     "text": [
      "{('A', 'UP'): 24.249999999999993, ('A', 'DOWN'): 0.0, ('B', 'UP'): 30.99999999999999, ('B', 'DOWN'): 19.187499999999993, ('C', 'UP'): 39.999999999999986, ('C', 'DOWN'): 24.249999999999993, ('D', 'UP'): 0.0, ('D', 'DOWN'): 39.999999999999986}\n"
     ]
    }
   ],
   "source": [
    "gamma = 0.75\n",
    "\n",
    "T = {\n",
    "    ('A', 'UP'): ([0, 1, 0, 0], 1),\n",
    "    ('A', 'DOWN'): ([0, 0, 0, 0], 0),\n",
    "    ('B', 'UP'): ([0, 0, 1, 0], 1),\n",
    "    ('B', 'DOWN'): ([1, 0, 0, 0], 1),\n",
    "    ('C', 'UP'): ([0, 0, 0, 1], 10),\n",
    "    ('C', 'DOWN'): ([0, 1, 0, 0], 1),\n",
    "    ('D', 'UP'): ([0, 0, 0, 0], 0),\n",
    "    ('D', 'DOWN'): ([0, 0, 1, 0], 10)\n",
    "}\n",
    "\n",
    "actions = ['UP', 'DOWN']\n",
    "states = ['A', 'B', 'C', 'D']\n",
    "\n",
    "# Initialize q-values\n",
    "q_values = { (state, action): 0 for state in states for action in actions }\n",
    "\n",
    "for iteration in range(10000):\n",
    "    new_q_values = {}\n",
    "    for s in range(4):  # for each state\n",
    "        for a in actions:  # for each action\n",
    "            transitions = T[(states[s], a)][0]\n",
    "            immediate_reward = T[(states[s], a)][1]\n",
    "            q_update = 0\n",
    "            for s_prime in range(4):  # next state\n",
    "                if states[s_prime] == 'A':\n",
    "                    possible_actions = ['UP']\n",
    "                elif states[s_prime] == 'D':\n",
    "                    possible_actions = ['DOWN']\n",
    "                else:\n",
    "                    possible_actions = actions.copy()\n",
    "                max_q_s_prime = max(q_values[(states[s_prime], a_prime)] for a_prime in possible_actions)\n",
    "                q_update += transitions[s_prime] * (immediate_reward + gamma * max_q_s_prime)\n",
    "            new_q_values[(states[s], a)] = q_update\n",
    "    q_values = new_q_values\n",
    "\n",
    "print(q_values)\n"
   ]
  },
  {
   "cell_type": "code",
   "execution_count": 47,
   "metadata": {},
   "outputs": [
    {
     "data": {
      "text/plain": [
       "-0.12"
      ]
     },
     "execution_count": 47,
     "metadata": {},
     "output_type": "execute_result"
    }
   ],
   "source": [
    "-0.04-0.08"
   ]
  },
  {
   "cell_type": "code",
   "execution_count": 48,
   "metadata": {},
   "outputs": [
    {
     "data": {
      "text/plain": [
       "-0.5625"
      ]
     },
     "execution_count": 48,
     "metadata": {},
     "output_type": "execute_result"
    }
   ],
   "source": [
    "0.75*-1+0.25*0.75"
   ]
  }
 ],
 "metadata": {
  "kernelspec": {
   "display_name": ".venv",
   "language": "python",
   "name": "python3"
  },
  "language_info": {
   "codemirror_mode": {
    "name": "ipython",
    "version": 3
   },
   "file_extension": ".py",
   "mimetype": "text/x-python",
   "name": "python",
   "nbconvert_exporter": "python",
   "pygments_lexer": "ipython3",
   "version": "3.12.3"
  }
 },
 "nbformat": 4,
 "nbformat_minor": 2
}
