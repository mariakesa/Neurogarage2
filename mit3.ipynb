{
 "cells": [
  {
   "cell_type": "code",
   "execution_count": 16,
   "metadata": {},
   "outputs": [
    {
     "name": "stdout",
     "output_type": "stream",
     "text": [
      "{'s_1': 0.008333333333333331, 's_2': 0.024999999999999994, 's_3': 0.09999999999999998, 's_4': 0.3999999999999999, 's_5': 1.5999999999999996}\n"
     ]
    }
   ],
   "source": [
    "import numpy as np\n",
    "\n",
    "\n",
    "T={\n",
    "    ('s_1', 'stay'): [0.5, 0.5, 0, 0, 0],\n",
    "    ('s_1', 'left'):  [0.5,0.5,0,0,0],\n",
    "    ('s_1', 'right'): [2./3,1./3,0,0,0],\n",
    "\n",
    "    ('s_2','stay'): [0.25,0.5,0.25,0,0],\n",
    "    ('s_2','left'): [1./3,2./3,0,0,0],\n",
    "    ('s_2','right'): [0,2./3,1./3,0,0],\n",
    "    ('s_3','stay'): [0,0.25,0.5,0.25,0],\n",
    "    ('s_3', 'left'): [0,1./3,2./3,0,0],\n",
    "    ('s_3','right'): [0,0,2./3,1./3,0],\n",
    "    ('s_4', 'stay'): [0,0,0.25,0.5,0.25],\n",
    "    ('s_4','left'): [0,0,1./3,2./3,0],\n",
    "    ('s_4','right'): [0,0,0,2./3,1./3],\n",
    "    ('s_5','stay'): [0,0,0,0.5,0.5],\n",
    "    ('s_5','left'): [0,0,0,1./3,2./3],\n",
    "    ('s_5','right'):[0,0,0,0.5,0.5]}\n",
    "\n",
    "V={\n",
    "    's_1':0,\n",
    "    's_2':0,\n",
    "    's_3':0,\n",
    "    's_4':0,\n",
    "    's_5':0\n",
    "}\n",
    "V_next={\n",
    "    's_1':0,\n",
    "    's_2':0,\n",
    "    's_3':0,\n",
    "    's_4':0,\n",
    "    's_5':0\n",
    "}\n",
    "gamma=0.5\n",
    "states=['s_1','s_2','s_3','s_4','s_5']\n",
    "actions=['stay','left','right']\n",
    "rewards={\n",
    "    's_1':0,\n",
    "    's_2':0,\n",
    "    's_3':0,\n",
    "    's_4':0,\n",
    "    's_5':1\n",
    "}\n",
    "for iteration in range(0,100):\n",
    "    for s in states:\n",
    "        action_values=[]\n",
    "        for a in actions:\n",
    "            Ss=[]\n",
    "            i=0\n",
    "            for s_prime in V.keys():\n",
    "                update=T[(s,a)][i]*(rewards[s]+gamma*V[s_prime])\n",
    "                Ss.append(update)\n",
    "                i+=1\n",
    "            action_values.append(sum(Ss))\n",
    "        V_next[s]=max(action_values)\n",
    "    V=V_next.copy()\n",
    "\n",
    "print(V)\n",
    "\n"
   ]
  }
 ],
 "metadata": {
  "kernelspec": {
   "display_name": ".venv",
   "language": "python",
   "name": "python3"
  },
  "language_info": {
   "codemirror_mode": {
    "name": "ipython",
    "version": 3
   },
   "file_extension": ".py",
   "mimetype": "text/x-python",
   "name": "python",
   "nbconvert_exporter": "python",
   "pygments_lexer": "ipython3",
   "version": "3.12.3"
  }
 },
 "nbformat": 4,
 "nbformat_minor": 2
}
