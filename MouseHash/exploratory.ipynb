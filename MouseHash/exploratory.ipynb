{
 "cells": [
  {
   "cell_type": "code",
   "execution_count": 2,
   "metadata": {},
   "outputs": [
    {
     "name": "stdout",
     "output_type": "stream",
     "text": [
      "Connected to https://openalyx.internationalbrainlab.org as user \"intbrainlab\"\n"
     ]
    }
   ],
   "source": [
    "from one.api import ONE\n",
    "import numpy as np\n",
    "\n",
    "ONE.setup(base_url='https://openalyx.internationalbrainlab.org', silent=True)\n",
    "one = ONE(password='international')\n",
    "\n",
    "# Search for all experiments with channels.mlapdv dataset\n",
    "eids = one.search(dataset='channels.mlapdv')"
   ]
  },
  {
   "cell_type": "code",
   "execution_count": 4,
   "metadata": {},
   "outputs": [
    {
     "data": {
      "text/plain": [
       "489"
      ]
     },
     "execution_count": 4,
     "metadata": {},
     "output_type": "execute_result"
    }
   ],
   "source": [
    "len(eids)"
   ]
  },
  {
   "cell_type": "code",
   "execution_count": 7,
   "metadata": {},
   "outputs": [
    {
     "name": "stdout",
     "output_type": "stream",
     "text": [
      "(384, 3)\n",
      "(384, 3)\n",
      "(384, 3)\n",
      "(384, 3)\n"
     ]
    },
    {
     "name": "stderr",
     "output_type": "stream",
     "text": [
      "local md5 mismatch on dataset: cortexlab/Subjects/KS074/2021-11-22/001/alf/probe00/pykilosort/channels.mlapdv.npy\n",
      "(S3) /home/maria/Downloads/ONE/openalyx.internationalbrainlab.org/cortexlab/Subjects/KS074/2021-11-22/001/alf/probe00/pykilosort/channels.mlapdv.npy: 100%|██████████| 4.74k/4.74k [00:00<00:00, 15.4kB/s]\n"
     ]
    },
    {
     "name": "stdout",
     "output_type": "stream",
     "text": [
      "(384, 3)\n",
      "(384, 3)\n",
      "(384, 3)\n",
      "(384, 3)\n",
      "(384, 3)\n",
      "(384, 3)\n",
      "(384, 3)\n",
      "(384, 3)\n",
      "(384, 3)\n",
      "(384, 3)\n",
      "(384, 3)\n",
      "(384, 3)\n",
      "(384, 3)\n",
      "(384, 3)\n",
      "(384, 3)\n",
      "(384, 3)\n",
      "(384, 3)\n",
      "(384, 3)\n"
     ]
    }
   ],
   "source": [
    "mlapdv_concat = []\n",
    "probe00_eids = []\n",
    "for eid in eids:\n",
    "    try:\n",
    "        mlapdv = one.load_dataset(eid, 'channels.mlapdv.npy', collection='alf/probe00/pykilosort')\n",
    "        print(mlapdv.shape)\n",
    "        mlapdv_mean = np.mean(mlapdv, axis=0) # compute the mean of the mlpadv values\n",
    "        mlapdv_concat.append(mlapdv_mean)\n",
    "        probe00_eids.append((eid, 'probe00'))\n",
    "    except:\n",
    "        pass"
   ]
  },
  {
   "cell_type": "code",
   "execution_count": 6,
   "metadata": {},
   "outputs": [
    {
     "data": {
      "text/plain": [
       "[array([-2322.82291667, -2417.08854167, -1982.21875   ]),\n",
       " array([ -968.91666667, -1526.13541667, -2544.36979167]),\n",
       " array([ -710.82291667,  1215.67708333, -2976.484375  ]),\n",
       " array([-1959.94270833, -2271.859375  , -2101.671875  ]),\n",
       " array([-2012.66666667, -2007.85416667, -1870.71354167]),\n",
       " array([-2116.18229167, -2290.046875  , -2106.1875    ]),\n",
       " array([-1821.78125   , -2609.59375   , -2644.38541667]),\n",
       " array([-2008.01041667, -1571.21875   , -2485.83854167]),\n",
       " array([-2296.66145833, -1752.85416667, -3154.765625  ]),\n",
       " array([-1725.88020833, -2446.234375  , -2055.19270833]),\n",
       " array([-2066.61979167, -2732.47916667, -2043.390625  ]),\n",
       " array([-1914.02604167, -2173.36458333, -2215.36458333]),\n",
       " array([-1639.9375    , -2275.        , -2488.60416667]),\n",
       " array([-1845.63020833, -2329.453125  , -2306.3125    ]),\n",
       " array([-2123.484375  , -3156.69791667, -2754.33854167]),\n",
       " array([-1949.69270833, -2113.3125    , -1933.53125   ]),\n",
       " array([-2061.515625, -2015.5     , -2340.859375]),\n",
       " array([-1926.27083333, -2301.94791667, -1696.27083333]),\n",
       " array([-1729.71875   , -2786.38020833, -2144.10416667]),\n",
       " array([-1657.28645833, -2150.        , -2065.19791667]),\n",
       " array([-2261.765625  , -2914.57291667, -2083.86979167]),\n",
       " array([-1822.69791667, -2278.27083333, -1815.1875    ])]"
      ]
     },
     "execution_count": 6,
     "metadata": {},
     "output_type": "execute_result"
    }
   ],
   "source": [
    "mlapdv_concat"
   ]
  }
 ],
 "metadata": {
  "kernelspec": {
   "display_name": ".venv",
   "language": "python",
   "name": "python3"
  },
  "language_info": {
   "codemirror_mode": {
    "name": "ipython",
    "version": 3
   },
   "file_extension": ".py",
   "mimetype": "text/x-python",
   "name": "python",
   "nbconvert_exporter": "python",
   "pygments_lexer": "ipython3",
   "version": "3.12.3"
  }
 },
 "nbformat": 4,
 "nbformat_minor": 2
}
