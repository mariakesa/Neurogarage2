{
 "cells": [
  {
   "cell_type": "code",
   "execution_count": 5,
   "metadata": {},
   "outputs": [
    {
     "name": "stdout",
     "output_type": "stream",
     "text": [
      "torch.Size([1, 16, 20, 13])\n",
      "torch.Size([1, 64, 9, 5])\n",
      "2880\n"
     ]
    }
   ],
   "source": [
    "import torch\n",
    "import torch.nn as nn\n",
    "\n",
    "class MyConvNet(nn.Module):\n",
    "    def __init__(self):\n",
    "        super().__init__()\n",
    "        self.conv = nn.Conv2d(1, 16, (3,3))\n",
    "        self.pool = nn.MaxPool2d(2, 2)\n",
    "        self.flatten = nn.Flatten()\n",
    "        self.conv2=nn.Conv2d(16, 64, (3,3))\n",
    "        self.pool2=nn.MaxPool2d(2, 2)\n",
    "        \n",
    "        # Use dummy input to infer feature size\n",
    "        dummy_input = torch.zeros(1, 1, 42, 28)\n",
    "        out = self.pool(self.conv(dummy_input))\n",
    "        print(out.shape)\n",
    "        out=self.pool2(self.conv2(out))\n",
    "        print(out.shape)\n",
    "        flattened_size = out.numel()\n",
    "        print(flattened_size)\n",
    "\n",
    "        self.fc = nn.Linear(flattened_size, 10)\n",
    "\n",
    "    def forward(self, x):\n",
    "        x = self.pool(self.conv(x))\n",
    "        x = self.flatten(x)\n",
    "        x = self.fc(x)\n",
    "        return x\n",
    "    \n",
    "model = MyConvNet()"
   ]
  }
 ],
 "metadata": {
  "kernelspec": {
   "display_name": ".venv",
   "language": "python",
   "name": "python3"
  },
  "language_info": {
   "codemirror_mode": {
    "name": "ipython",
    "version": 3
   },
   "file_extension": ".py",
   "mimetype": "text/x-python",
   "name": "python",
   "nbconvert_exporter": "python",
   "pygments_lexer": "ipython3",
   "version": "3.12.3"
  }
 },
 "nbformat": 4,
 "nbformat_minor": 2
}
